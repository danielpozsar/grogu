{
 "cells": [
  {
   "cell_type": "markdown",
   "metadata": {},
   "source": [
    "# Unit test and general code health!!!"
   ]
  },
  {
   "cell_type": "code",
   "execution_count": null,
   "metadata": {},
   "outputs": [],
   "source": [
    "from grogupy import *"
   ]
  },
  {
   "cell_type": "code",
   "execution_count": null,
   "metadata": {},
   "outputs": [],
   "source": []
  },
  {
   "cell_type": "code",
   "execution_count": 1,
   "metadata": {},
   "outputs": [
    {
     "name": "stderr",
     "output_type": "stream",
     "text": [
      "[Daniels-MacBook-Air.local:83827] shmem: mmap: an error occurred while determining whether or not /var/folders/yh/dx7xl94n3g52ts3td8qcxjcc0000gn/T//ompi.Daniels-MacBook-Air.501/jf.0/3814719488/sm_segment.Daniels-MacBook-Air.501.e3600000.0 could be created.\n",
      "/Users/danielpozsar/Documents/oktatás/elte/phd/grogu/.venv/lib/python3.9/site-packages/grogupy/_tqdm.py:24: TqdmWarning: IProgress not found. Please update jupyter and ipywidgets. See https://ipywidgets.readthedocs.io/en/stable/user_install.html\n",
      "  from tqdm.autonotebook import tqdm\n"
     ]
    }
   ],
   "source": [
    "import grogupy"
   ]
  },
  {
   "cell_type": "code",
   "execution_count": null,
   "metadata": {},
   "outputs": [],
   "source": [
    "import numpy as np\n",
    "\n",
    "import grogupy\n",
    "import grogupy.viz\n",
    "\n",
    "# insulator eset 100\n",
    "# insulator esetp 600\n",
    "\n",
    "# metallic eset 1000\n",
    "# metallic esetp 10000\n",
    "\n",
    "# 100 kpoint for diatomic systems"
   ]
  },
  {
   "cell_type": "code",
   "execution_count": null,
   "metadata": {},
   "outputs": [],
   "source": [
    "infile = \"../benchmarks/Cr3/Cr3.fdf\"\n",
    "# infile = \"/Users/danielpozsar/Downloads/Fe3GeTe2/Fe3GeTe2.fdf\""
   ]
  },
  {
   "cell_type": "code",
   "execution_count": null,
   "metadata": {},
   "outputs": [],
   "source": [
    "simulation_kspace = grogupy.Kspace([1, 1, 1])\n",
    "simulation_kspace.plot().show()\n",
    "simulation_kspace"
   ]
  },
  {
   "cell_type": "code",
   "execution_count": null,
   "metadata": {},
   "outputs": [],
   "source": [
    "simulation_contour = grogupy.Contour(\n",
    "    eset=100,\n",
    "    esetp=10000,\n",
    "    emin=None,\n",
    "    emax=0,\n",
    "    emin_shift=-5,\n",
    "    emax_shift=0,\n",
    "    eigfile=infile,\n",
    ")\n",
    "simulation_contour.plot().show()\n",
    "simulation_contour"
   ]
  },
  {
   "cell_type": "code",
   "execution_count": null,
   "metadata": {},
   "outputs": [],
   "source": [
    "simulation_hamiltonian = grogupy.Hamiltonian(\n",
    "    infile,\n",
    "    [0, 0, 1],\n",
    ")"
   ]
  },
  {
   "cell_type": "code",
   "execution_count": null,
   "metadata": {},
   "outputs": [],
   "source": [
    "xyz = np.array([[1, 0, 0], [0, 1, 0], [0, 0, 1]])\n",
    "\n",
    "simulation = grogupy.Builder(xyz, matlabmode=True)\n",
    "\n",
    "simulation.add_kspace(simulation_kspace)\n",
    "simulation.add_contour(simulation_contour)\n",
    "simulation.add_hamiltonian(simulation_hamiltonian)\n",
    "simulation.ref_xcf_orientations"
   ]
  },
  {
   "cell_type": "code",
   "execution_count": null,
   "metadata": {},
   "outputs": [],
   "source": [
    "magnetic_entities = [\n",
    "    dict(atom=0, l=2),\n",
    "    dict(atom=1, l=2),\n",
    "    dict(atom=2, l=2),\n",
    "]\n",
    "simulation.add_magnetic_entities(magnetic_entities)\n",
    "simulation.magnetic_entities"
   ]
  },
  {
   "cell_type": "code",
   "execution_count": null,
   "metadata": {},
   "outputs": [],
   "source": [
    "pairs = [\n",
    "    dict(ai=0, aj=1, Ruc=np.array([0, 0, 0])),\n",
    "    dict(ai=1, aj=2, Ruc=np.array([0, 0, 0])),\n",
    "    dict(ai=2, aj=0, Ruc=np.array([0, 0, 0])),\n",
    "]\n",
    "simulation.add_pairs(pairs)\n",
    "simulation.pairs"
   ]
  },
  {
   "cell_type": "code",
   "execution_count": null,
   "metadata": {},
   "outputs": [],
   "source": [
    "simulation.solve()"
   ]
  },
  {
   "cell_type": "code",
   "execution_count": null,
   "metadata": {},
   "outputs": [],
   "source": [
    "print(simulation.to_magnopy())"
   ]
  },
  {
   "cell_type": "code",
   "execution_count": null,
   "metadata": {},
   "outputs": [],
   "source": [
    "K_fit = []\n",
    "K_calc = []\n",
    "K_cons = []\n",
    "for mag_ent in simulation.magnetic_entities:\n",
    "    mag_ent.fit_anisotropy_tensor(simulation.ref_xcf_orientations)\n",
    "    K_fit.append(mag_ent.K_meV)\n",
    "    mag_ent.calculate_anisotropy()\n",
    "    K_calc.append(mag_ent.K_meV)\n",
    "    K_cons.append(mag_ent.K_consistency_meV)\n",
    "\n",
    "K_fit = np.array(K_fit)\n",
    "K_calc = np.array(K_calc)\n",
    "\n",
    "\n",
    "J_fit = []\n",
    "D_fit = []\n",
    "S_fit = []\n",
    "J_calc = []\n",
    "D_calc = []\n",
    "S_calc = []\n",
    "for pair in simulation.pairs:\n",
    "    pair.fit_exchange_tensor(simulation.ref_xcf_orientations)\n",
    "    J_fit.append(pair.J_meV)\n",
    "    D_fit.append(pair.D_meV)\n",
    "    S_fit.append(pair.J_S_meV)\n",
    "    pair.calculate_exchange_tensor()\n",
    "    J_calc.append(pair.J_meV)\n",
    "    D_calc.append(pair.D_meV)\n",
    "    S_calc.append(pair.J_S_meV)\n",
    "\n",
    "J_fit = np.array(J_fit)\n",
    "J_calc = np.array(J_calc)\n",
    "D_fit = np.array(D_fit)\n",
    "D_calc = np.array(D_calc)\n",
    "S_fit = np.array(S_fit)\n",
    "S_calc = np.array(S_calc)"
   ]
  },
  {
   "cell_type": "code",
   "execution_count": null,
   "metadata": {},
   "outputs": [],
   "source": [
    "xyz = np.array([[1, 0, 0], [0, 1, 0], [0, 0, 1]])\n",
    "\n",
    "simulation_2 = grogupy.Builder(xyz, matlabmode=False)\n",
    "\n",
    "simulation_2.add_kspace(simulation_kspace)\n",
    "simulation_2.add_contour(simulation_contour)\n",
    "simulation_2.add_hamiltonian(simulation_hamiltonian)\n",
    "simulation_2.add_magnetic_entities(magnetic_entities)\n",
    "simulation_2.add_pairs(pairs)\n",
    "simulation_2.pairs\n",
    "simulation_2.solve()\n",
    "\n",
    "J_fit_2 = []\n",
    "D_fit_2 = []\n",
    "S_fit_2 = []\n",
    "for pair in simulation_2.pairs:\n",
    "    pair.fit_exchange_tensor(simulation_2.ref_xcf_orientations)\n",
    "    J_fit_2.append(pair.J_meV)\n",
    "    D_fit_2.append(pair.D_meV)\n",
    "    S_fit_2.append(pair.J_S_meV)\n",
    "\n",
    "J_fit_2 = np.array(J_fit_2)\n",
    "D_fit_2 = np.array(D_fit_2)\n",
    "S_fit_2 = np.array(S_fit_2)\n",
    "\n",
    "K_fit_2 = []\n",
    "for mag_ent in simulation_2.magnetic_entities:\n",
    "    mag_ent.fit_anisotropy_tensor(simulation_2.ref_xcf_orientations)\n",
    "    K_fit_2.append(mag_ent.K_meV)\n",
    "K_fit_2 = np.array(K_fit_2)"
   ]
  },
  {
   "cell_type": "code",
   "execution_count": null,
   "metadata": {},
   "outputs": [],
   "source": [
    "xyz = np.array(\n",
    "    [\n",
    "        [np.cos(np.pi / 3), np.sin(np.pi / 3), 0],\n",
    "        [np.cos(2 * np.pi / 3), np.sin(2 * np.pi / 3), 0],\n",
    "        [1, 0, 0],\n",
    "        # [0, 1, 0],\n",
    "        # [0, 0, 1],\n",
    "    ]\n",
    ")\n",
    "\n",
    "simulation_3 = grogupy.Builder(xyz)\n",
    "\n",
    "simulation_3.add_kspace(simulation_kspace)\n",
    "simulation_3.add_contour(simulation_contour)\n",
    "simulation_3.add_hamiltonian(simulation_hamiltonian)\n",
    "simulation_3.add_magnetic_entities(magnetic_entities)\n",
    "simulation_3.add_pairs(pairs)\n",
    "simulation_3.solve()\n",
    "\n",
    "J_fit_3 = []\n",
    "D_fit_3 = []\n",
    "S_fit_3 = []\n",
    "for pair in simulation_3.pairs:\n",
    "    pair.fit_exchange_tensor(simulation_3.ref_xcf_orientations)\n",
    "    J_fit_3.append(pair.J_meV)\n",
    "    D_fit_3.append(pair.D_meV)\n",
    "    S_fit_3.append(pair.J_S_meV)\n",
    "\n",
    "J_fit_3 = np.array(J_fit_3)\n",
    "D_fit_3 = np.array(D_fit_3)\n",
    "S_fit_3 = np.array(S_fit_3)\n",
    "\n",
    "K_fit_3 = []\n",
    "for mag_ent in simulation_3.magnetic_entities:\n",
    "    mag_ent.fit_anisotropy_tensor(simulation_3.ref_xcf_orientations)\n",
    "    K_fit_3.append(mag_ent.K_meV)\n",
    "K_fit_3 = np.array(K_fit_3)"
   ]
  },
  {
   "cell_type": "code",
   "execution_count": null,
   "metadata": {},
   "outputs": [],
   "source": [
    "rounding = 3\n",
    "K_cons = np.around(K_cons, rounding)\n",
    "\n",
    "J_calc = np.around(J_calc, rounding)\n",
    "D_calc = np.around(D_calc, rounding)\n",
    "S_calc = np.around(S_calc, rounding)\n",
    "K_calc = np.around(K_calc, rounding)\n",
    "\n",
    "\n",
    "J_fit = np.around(J_fit, rounding)\n",
    "D_fit = np.around(D_fit, rounding)\n",
    "S_fit = np.around(S_fit, rounding)\n",
    "K_fit = np.around(K_fit, rounding)\n",
    "\n",
    "J_fit_2 = np.around(J_fit_2, rounding)\n",
    "D_fit_2 = np.around(D_fit_2, rounding)\n",
    "S_fit_2 = np.around(S_fit_2, rounding)\n",
    "K_fit_2 = np.around(K_fit_2, rounding)\n",
    "\n",
    "J_fit_3 = np.around(J_fit_3, rounding)\n",
    "D_fit_3 = np.around(D_fit_3, rounding)\n",
    "S_fit_3 = np.around(S_fit_3, rounding)\n",
    "K_fit_3 = np.around(K_fit_3, rounding)"
   ]
  },
  {
   "cell_type": "code",
   "execution_count": null,
   "metadata": {},
   "outputs": [],
   "source": [
    "print(\"K_cons should be zero\")\n",
    "K_cons"
   ]
  },
  {
   "cell_type": "code",
   "execution_count": null,
   "metadata": {},
   "outputs": [],
   "source": [
    "print(\"J_fit, J_calc\")\n",
    "print((J_fit == J_calc).all())\n",
    "print(\"K_fit, K_calc\")\n",
    "print((K_fit == K_calc).all())\n",
    "print()\n",
    "print(\"J_fit, J_fit2\")\n",
    "print((J_fit == J_fit_2).all())\n",
    "print(\"K_fit, K_fit2\")\n",
    "print((K_fit == K_fit_2).all())\n",
    "print()\n",
    "print(\"J_fit, J_fit3\")\n",
    "print((J_fit == J_fit_3).all())\n",
    "print(\"K_fit, K_fit3\")\n",
    "print((K_fit == K_fit_3).all())"
   ]
  },
  {
   "cell_type": "code",
   "execution_count": null,
   "metadata": {},
   "outputs": [],
   "source": [
    "print(\"Off diagonal part is equal\")\n",
    "print(\"D_fit, D_calc\")\n",
    "print((D_fit == D_calc).all())\n",
    "print()\n",
    "print(\"S_fit, S_calc\")\n",
    "print((S_fit == S_calc).all())\n",
    "print()\n",
    "print(\"Jfit, Jcalc\")\n",
    "print(J_fit[:, 0, 0])\n",
    "print(J_calc[:, 0, 0])\n",
    "print()\n",
    "print(J_fit[:, 1, 1])\n",
    "print(J_calc[:, 1, 1])\n",
    "print()\n",
    "print(J_fit[:, 2, 2])\n",
    "print(J_calc[:, 2, 2])"
   ]
  },
  {
   "cell_type": "code",
   "execution_count": null,
   "metadata": {},
   "outputs": [],
   "source": [
    "print(\"K_fit, K_calc\")\n",
    "print(K_fit[:, 0, 0])\n",
    "print(K_calc[:, 0, 0])\n",
    "print()\n",
    "print(K_fit[:, 1, 1])\n",
    "print(K_calc[:, 1, 1])\n",
    "print()\n",
    "print(K_fit[:, 0, 1])\n",
    "print(K_calc[:, 0, 1])\n",
    "print()\n",
    "print(K_fit[:, 0, 2])\n",
    "print(K_calc[:, 0, 2])\n",
    "print()\n",
    "print(K_fit[:, 1, 2])\n",
    "print(K_calc[:, 1, 2])"
   ]
  },
  {
   "cell_type": "code",
   "execution_count": null,
   "metadata": {},
   "outputs": [],
   "source": [
    "print(\"Off diagonal part is equal\")\n",
    "print(\"D_fit, D_fit_3\")\n",
    "print((D_fit == D_fit_3).all())\n",
    "print()\n",
    "print(\"S_fit, S_fit_3\")\n",
    "print((S_fit == S_fit_3).all())\n",
    "print()\n",
    "print(\"J_fit, J_fit_3\")\n",
    "print(J_fit[:, 0, 0])\n",
    "print(J_fit_3[:, 0, 0])\n",
    "print()\n",
    "print(J_fit[:, 1, 1])\n",
    "print(J_fit_3[:, 1, 1])\n",
    "print()\n",
    "print(J_fit[:, 2, 2])\n",
    "print(J_fit_3[:, 2, 2])"
   ]
  },
  {
   "cell_type": "code",
   "execution_count": null,
   "metadata": {},
   "outputs": [],
   "source": [
    "print(\"K_fit, K_fit_3\")\n",
    "print(K_fit[:, 0, 0])\n",
    "print(K_fit_3[:, 0, 0])\n",
    "print()\n",
    "print(K_fit[:, 1, 1])\n",
    "print(K_fit_3[:, 1, 1])\n",
    "print()\n",
    "print(K_fit[:, 0, 1])\n",
    "print(K_fit_3[:, 0, 1])\n",
    "print()\n",
    "print(K_fit[:, 0, 2])\n",
    "print(K_fit_3[:, 0, 2])\n",
    "print()\n",
    "print(K_fit[:, 1, 2])\n",
    "print(K_fit_3[:, 1, 2])"
   ]
  },
  {
   "cell_type": "code",
   "execution_count": null,
   "metadata": {},
   "outputs": [],
   "source": [
    "from scipy.spatial.transform import Rotation as R\n",
    "import numpy as np\n",
    "\n",
    "r = R.from_rotvec(np.pi / 2 * np.array([0, 0, 1]))\n",
    "r.as_matrix()"
   ]
  },
  {
   "cell_type": "code",
   "execution_count": null,
   "metadata": {},
   "outputs": [],
   "source": [
    "p1 = simulation.pairs[0]\n",
    "p2 = p1.copy()"
   ]
  },
  {
   "cell_type": "code",
   "execution_count": null,
   "metadata": {},
   "outputs": [],
   "source": [
    "grogupy.save(simulation, \"test_builder.pkl\", compress=0)\n",
    "grogupy.save(simulation.contour, \"test_contour.pkl\", compress=0)\n",
    "grogupy.save(simulation.kspace, \"test_kspace.pkl\", compress=0)\n",
    "grogupy.save(simulation.pairs[0], \"test_pair.pkl\", compress=0)\n",
    "grogupy.save(simulation.magnetic_entities[0], \"test_magnetic_entity.pkl\", compress=0)"
   ]
  },
  {
   "cell_type": "code",
   "execution_count": null,
   "metadata": {},
   "outputs": [],
   "source": []
  }
 ],
 "metadata": {
  "kernelspec": {
   "display_name": ".venv",
   "language": "python",
   "name": "python3"
  },
  "language_info": {
   "codemirror_mode": {
    "name": "ipython",
    "version": 3
   },
   "file_extension": ".py",
   "mimetype": "text/x-python",
   "name": "python",
   "nbconvert_exporter": "python",
   "pygments_lexer": "ipython3",
   "version": "3.9.6"
  }
 },
 "nbformat": 4,
 "nbformat_minor": 2
}
