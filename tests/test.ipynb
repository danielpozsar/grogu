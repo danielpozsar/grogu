{
 "cells": [
  {
   "cell_type": "markdown",
   "metadata": {},
   "source": [
    "# Unit test and general code health!!!"
   ]
  },
  {
   "cell_type": "code",
   "execution_count": 1,
   "metadata": {},
   "outputs": [
    {
     "name": "stderr",
     "output_type": "stream",
     "text": [
      "[Daniels-MacBook-Air.local:78353] shmem: mmap: an error occurred while determining whether or not /var/folders/yh/dx7xl94n3g52ts3td8qcxjcc0000gn/T//ompi.Daniels-MacBook-Air.501/jf.0/3753836544/sm_segment.Daniels-MacBook-Air.501.dfbf0000.0 could be created.\n",
      "/Users/danielpozsar/Documents/oktatás/elte/phd/grogu/.venv/lib/python3.9/site-packages/grogupy/_tqdm.py:24: TqdmWarning: IProgress not found. Please update jupyter and ipywidgets. See https://ipywidgets.readthedocs.io/en/stable/user_install.html\n",
      "  from tqdm.autonotebook import tqdm\n"
     ]
    }
   ],
   "source": [
    "import numpy as np\n",
    "\n",
    "import grogupy\n",
    "import grogupy.viz\n",
    "\n",
    "# insulator eset 100\n",
    "# insulator esetp 600\n",
    "\n",
    "# metallic eset 1000\n",
    "# metallic esetp 10000\n",
    "\n",
    "# 100 kpoint for diatomic systems"
   ]
  },
  {
   "cell_type": "code",
   "execution_count": 2,
   "metadata": {},
   "outputs": [],
   "source": [
    "# infile = \"../benchmarks/Cr3/Cr3.fdf\"\n",
    "infile = \"/Users/danielpozsar/Downloads/Fe3GeTe2/Fe3GeTe2.fdf\""
   ]
  },
  {
   "cell_type": "code",
   "execution_count": 3,
   "metadata": {},
   "outputs": [
    {
     "data": {
      "application/vnd.plotly.v1+json": {
       "config": {
        "plotlyServerURL": "https://plot.ly"
       },
       "data": [
        {
         "marker": {
          "color": {
           "bdata": "AAAAAAAA8D8=",
           "dtype": "f8"
          },
          "colorbar": {
           "title": {
            "text": "Weights of kpoints"
           },
           "x": 0.75
          },
          "colorscale": [
           [
            0,
            "#440154"
           ],
           [
            0.1111111111111111,
            "#482878"
           ],
           [
            0.2222222222222222,
            "#3e4989"
           ],
           [
            0.3333333333333333,
            "#31688e"
           ],
           [
            0.4444444444444444,
            "#26828e"
           ],
           [
            0.5555555555555556,
            "#1f9e89"
           ],
           [
            0.6666666666666666,
            "#35b779"
           ],
           [
            0.7777777777777778,
            "#6ece58"
           ],
           [
            0.8888888888888888,
            "#b5de2b"
           ],
           [
            1,
            "#fde725"
           ]
          ],
          "opacity": 1,
          "size": 5
         },
         "mode": "markers",
         "name": "Kpoints",
         "type": "scatter3d",
         "x": {
          "bdata": "AAAAAAAAAAA=",
          "dtype": "f8"
         },
         "y": {
          "bdata": "AAAAAAAAAAA=",
          "dtype": "f8"
         },
         "z": {
          "bdata": "AAAAAAAAAAA=",
          "dtype": "f8"
         }
        }
       ],
       "layout": {
        "autosize": false,
        "height": 700,
        "scene": {
         "aspectmode": "data",
         "xaxis": {
          "gridwidth": 1,
          "showgrid": true,
          "title": {
           "text": "X Axis"
          }
         },
         "yaxis": {
          "gridwidth": 1,
          "showgrid": true,
          "title": {
           "text": "Y Axis"
          }
         },
         "zaxis": {
          "gridwidth": 1,
          "showgrid": true,
          "title": {
           "text": "Z Axis"
          }
         }
        },
        "template": {
         "data": {
          "bar": [
           {
            "error_x": {
             "color": "#2a3f5f"
            },
            "error_y": {
             "color": "#2a3f5f"
            },
            "marker": {
             "line": {
              "color": "#E5ECF6",
              "width": 0.5
             },
             "pattern": {
              "fillmode": "overlay",
              "size": 10,
              "solidity": 0.2
             }
            },
            "type": "bar"
           }
          ],
          "barpolar": [
           {
            "marker": {
             "line": {
              "color": "#E5ECF6",
              "width": 0.5
             },
             "pattern": {
              "fillmode": "overlay",
              "size": 10,
              "solidity": 0.2
             }
            },
            "type": "barpolar"
           }
          ],
          "carpet": [
           {
            "aaxis": {
             "endlinecolor": "#2a3f5f",
             "gridcolor": "white",
             "linecolor": "white",
             "minorgridcolor": "white",
             "startlinecolor": "#2a3f5f"
            },
            "baxis": {
             "endlinecolor": "#2a3f5f",
             "gridcolor": "white",
             "linecolor": "white",
             "minorgridcolor": "white",
             "startlinecolor": "#2a3f5f"
            },
            "type": "carpet"
           }
          ],
          "choropleth": [
           {
            "colorbar": {
             "outlinewidth": 0,
             "ticks": ""
            },
            "type": "choropleth"
           }
          ],
          "contour": [
           {
            "colorbar": {
             "outlinewidth": 0,
             "ticks": ""
            },
            "colorscale": [
             [
              0,
              "#0d0887"
             ],
             [
              0.1111111111111111,
              "#46039f"
             ],
             [
              0.2222222222222222,
              "#7201a8"
             ],
             [
              0.3333333333333333,
              "#9c179e"
             ],
             [
              0.4444444444444444,
              "#bd3786"
             ],
             [
              0.5555555555555556,
              "#d8576b"
             ],
             [
              0.6666666666666666,
              "#ed7953"
             ],
             [
              0.7777777777777778,
              "#fb9f3a"
             ],
             [
              0.8888888888888888,
              "#fdca26"
             ],
             [
              1,
              "#f0f921"
             ]
            ],
            "type": "contour"
           }
          ],
          "contourcarpet": [
           {
            "colorbar": {
             "outlinewidth": 0,
             "ticks": ""
            },
            "type": "contourcarpet"
           }
          ],
          "heatmap": [
           {
            "colorbar": {
             "outlinewidth": 0,
             "ticks": ""
            },
            "colorscale": [
             [
              0,
              "#0d0887"
             ],
             [
              0.1111111111111111,
              "#46039f"
             ],
             [
              0.2222222222222222,
              "#7201a8"
             ],
             [
              0.3333333333333333,
              "#9c179e"
             ],
             [
              0.4444444444444444,
              "#bd3786"
             ],
             [
              0.5555555555555556,
              "#d8576b"
             ],
             [
              0.6666666666666666,
              "#ed7953"
             ],
             [
              0.7777777777777778,
              "#fb9f3a"
             ],
             [
              0.8888888888888888,
              "#fdca26"
             ],
             [
              1,
              "#f0f921"
             ]
            ],
            "type": "heatmap"
           }
          ],
          "histogram": [
           {
            "marker": {
             "pattern": {
              "fillmode": "overlay",
              "size": 10,
              "solidity": 0.2
             }
            },
            "type": "histogram"
           }
          ],
          "histogram2d": [
           {
            "colorbar": {
             "outlinewidth": 0,
             "ticks": ""
            },
            "colorscale": [
             [
              0,
              "#0d0887"
             ],
             [
              0.1111111111111111,
              "#46039f"
             ],
             [
              0.2222222222222222,
              "#7201a8"
             ],
             [
              0.3333333333333333,
              "#9c179e"
             ],
             [
              0.4444444444444444,
              "#bd3786"
             ],
             [
              0.5555555555555556,
              "#d8576b"
             ],
             [
              0.6666666666666666,
              "#ed7953"
             ],
             [
              0.7777777777777778,
              "#fb9f3a"
             ],
             [
              0.8888888888888888,
              "#fdca26"
             ],
             [
              1,
              "#f0f921"
             ]
            ],
            "type": "histogram2d"
           }
          ],
          "histogram2dcontour": [
           {
            "colorbar": {
             "outlinewidth": 0,
             "ticks": ""
            },
            "colorscale": [
             [
              0,
              "#0d0887"
             ],
             [
              0.1111111111111111,
              "#46039f"
             ],
             [
              0.2222222222222222,
              "#7201a8"
             ],
             [
              0.3333333333333333,
              "#9c179e"
             ],
             [
              0.4444444444444444,
              "#bd3786"
             ],
             [
              0.5555555555555556,
              "#d8576b"
             ],
             [
              0.6666666666666666,
              "#ed7953"
             ],
             [
              0.7777777777777778,
              "#fb9f3a"
             ],
             [
              0.8888888888888888,
              "#fdca26"
             ],
             [
              1,
              "#f0f921"
             ]
            ],
            "type": "histogram2dcontour"
           }
          ],
          "mesh3d": [
           {
            "colorbar": {
             "outlinewidth": 0,
             "ticks": ""
            },
            "type": "mesh3d"
           }
          ],
          "parcoords": [
           {
            "line": {
             "colorbar": {
              "outlinewidth": 0,
              "ticks": ""
             }
            },
            "type": "parcoords"
           }
          ],
          "pie": [
           {
            "automargin": true,
            "type": "pie"
           }
          ],
          "scatter": [
           {
            "fillpattern": {
             "fillmode": "overlay",
             "size": 10,
             "solidity": 0.2
            },
            "type": "scatter"
           }
          ],
          "scatter3d": [
           {
            "line": {
             "colorbar": {
              "outlinewidth": 0,
              "ticks": ""
             }
            },
            "marker": {
             "colorbar": {
              "outlinewidth": 0,
              "ticks": ""
             }
            },
            "type": "scatter3d"
           }
          ],
          "scattercarpet": [
           {
            "marker": {
             "colorbar": {
              "outlinewidth": 0,
              "ticks": ""
             }
            },
            "type": "scattercarpet"
           }
          ],
          "scattergeo": [
           {
            "marker": {
             "colorbar": {
              "outlinewidth": 0,
              "ticks": ""
             }
            },
            "type": "scattergeo"
           }
          ],
          "scattergl": [
           {
            "marker": {
             "colorbar": {
              "outlinewidth": 0,
              "ticks": ""
             }
            },
            "type": "scattergl"
           }
          ],
          "scattermap": [
           {
            "marker": {
             "colorbar": {
              "outlinewidth": 0,
              "ticks": ""
             }
            },
            "type": "scattermap"
           }
          ],
          "scattermapbox": [
           {
            "marker": {
             "colorbar": {
              "outlinewidth": 0,
              "ticks": ""
             }
            },
            "type": "scattermapbox"
           }
          ],
          "scatterpolar": [
           {
            "marker": {
             "colorbar": {
              "outlinewidth": 0,
              "ticks": ""
             }
            },
            "type": "scatterpolar"
           }
          ],
          "scatterpolargl": [
           {
            "marker": {
             "colorbar": {
              "outlinewidth": 0,
              "ticks": ""
             }
            },
            "type": "scatterpolargl"
           }
          ],
          "scatterternary": [
           {
            "marker": {
             "colorbar": {
              "outlinewidth": 0,
              "ticks": ""
             }
            },
            "type": "scatterternary"
           }
          ],
          "surface": [
           {
            "colorbar": {
             "outlinewidth": 0,
             "ticks": ""
            },
            "colorscale": [
             [
              0,
              "#0d0887"
             ],
             [
              0.1111111111111111,
              "#46039f"
             ],
             [
              0.2222222222222222,
              "#7201a8"
             ],
             [
              0.3333333333333333,
              "#9c179e"
             ],
             [
              0.4444444444444444,
              "#bd3786"
             ],
             [
              0.5555555555555556,
              "#d8576b"
             ],
             [
              0.6666666666666666,
              "#ed7953"
             ],
             [
              0.7777777777777778,
              "#fb9f3a"
             ],
             [
              0.8888888888888888,
              "#fdca26"
             ],
             [
              1,
              "#f0f921"
             ]
            ],
            "type": "surface"
           }
          ],
          "table": [
           {
            "cells": {
             "fill": {
              "color": "#EBF0F8"
             },
             "line": {
              "color": "white"
             }
            },
            "header": {
             "fill": {
              "color": "#C8D4E3"
             },
             "line": {
              "color": "white"
             }
            },
            "type": "table"
           }
          ]
         },
         "layout": {
          "annotationdefaults": {
           "arrowcolor": "#2a3f5f",
           "arrowhead": 0,
           "arrowwidth": 1
          },
          "autotypenumbers": "strict",
          "coloraxis": {
           "colorbar": {
            "outlinewidth": 0,
            "ticks": ""
           }
          },
          "colorscale": {
           "diverging": [
            [
             0,
             "#8e0152"
            ],
            [
             0.1,
             "#c51b7d"
            ],
            [
             0.2,
             "#de77ae"
            ],
            [
             0.3,
             "#f1b6da"
            ],
            [
             0.4,
             "#fde0ef"
            ],
            [
             0.5,
             "#f7f7f7"
            ],
            [
             0.6,
             "#e6f5d0"
            ],
            [
             0.7,
             "#b8e186"
            ],
            [
             0.8,
             "#7fbc41"
            ],
            [
             0.9,
             "#4d9221"
            ],
            [
             1,
             "#276419"
            ]
           ],
           "sequential": [
            [
             0,
             "#0d0887"
            ],
            [
             0.1111111111111111,
             "#46039f"
            ],
            [
             0.2222222222222222,
             "#7201a8"
            ],
            [
             0.3333333333333333,
             "#9c179e"
            ],
            [
             0.4444444444444444,
             "#bd3786"
            ],
            [
             0.5555555555555556,
             "#d8576b"
            ],
            [
             0.6666666666666666,
             "#ed7953"
            ],
            [
             0.7777777777777778,
             "#fb9f3a"
            ],
            [
             0.8888888888888888,
             "#fdca26"
            ],
            [
             1,
             "#f0f921"
            ]
           ],
           "sequentialminus": [
            [
             0,
             "#0d0887"
            ],
            [
             0.1111111111111111,
             "#46039f"
            ],
            [
             0.2222222222222222,
             "#7201a8"
            ],
            [
             0.3333333333333333,
             "#9c179e"
            ],
            [
             0.4444444444444444,
             "#bd3786"
            ],
            [
             0.5555555555555556,
             "#d8576b"
            ],
            [
             0.6666666666666666,
             "#ed7953"
            ],
            [
             0.7777777777777778,
             "#fb9f3a"
            ],
            [
             0.8888888888888888,
             "#fdca26"
            ],
            [
             1,
             "#f0f921"
            ]
           ]
          },
          "colorway": [
           "#636efa",
           "#EF553B",
           "#00cc96",
           "#ab63fa",
           "#FFA15A",
           "#19d3f3",
           "#FF6692",
           "#B6E880",
           "#FF97FF",
           "#FECB52"
          ],
          "font": {
           "color": "#2a3f5f"
          },
          "geo": {
           "bgcolor": "white",
           "lakecolor": "white",
           "landcolor": "#E5ECF6",
           "showlakes": true,
           "showland": true,
           "subunitcolor": "white"
          },
          "hoverlabel": {
           "align": "left"
          },
          "hovermode": "closest",
          "mapbox": {
           "style": "light"
          },
          "paper_bgcolor": "white",
          "plot_bgcolor": "#E5ECF6",
          "polar": {
           "angularaxis": {
            "gridcolor": "white",
            "linecolor": "white",
            "ticks": ""
           },
           "bgcolor": "#E5ECF6",
           "radialaxis": {
            "gridcolor": "white",
            "linecolor": "white",
            "ticks": ""
           }
          },
          "scene": {
           "xaxis": {
            "backgroundcolor": "#E5ECF6",
            "gridcolor": "white",
            "gridwidth": 2,
            "linecolor": "white",
            "showbackground": true,
            "ticks": "",
            "zerolinecolor": "white"
           },
           "yaxis": {
            "backgroundcolor": "#E5ECF6",
            "gridcolor": "white",
            "gridwidth": 2,
            "linecolor": "white",
            "showbackground": true,
            "ticks": "",
            "zerolinecolor": "white"
           },
           "zaxis": {
            "backgroundcolor": "#E5ECF6",
            "gridcolor": "white",
            "gridwidth": 2,
            "linecolor": "white",
            "showbackground": true,
            "ticks": "",
            "zerolinecolor": "white"
           }
          },
          "shapedefaults": {
           "line": {
            "color": "#2a3f5f"
           }
          },
          "ternary": {
           "aaxis": {
            "gridcolor": "white",
            "linecolor": "white",
            "ticks": ""
           },
           "baxis": {
            "gridcolor": "white",
            "linecolor": "white",
            "ticks": ""
           },
           "bgcolor": "#E5ECF6",
           "caxis": {
            "gridcolor": "white",
            "linecolor": "white",
            "ticks": ""
           }
          },
          "title": {
           "x": 0.05
          },
          "xaxis": {
           "automargin": true,
           "gridcolor": "white",
           "linecolor": "white",
           "ticks": "",
           "title": {
            "standoff": 15
           },
           "zerolinecolor": "white",
           "zerolinewidth": 2
          },
          "yaxis": {
           "automargin": true,
           "gridcolor": "white",
           "linecolor": "white",
           "ticks": "",
           "title": {
            "standoff": 15
           },
           "zerolinecolor": "white",
           "zerolinewidth": 2
          }
         }
        },
        "width": 1200
       }
      }
     },
     "metadata": {},
     "output_type": "display_data"
    },
    {
     "data": {
      "text/plain": [
       "<grogupy.Kspace kset=[1 1 1], NK=1>"
      ]
     },
     "execution_count": 3,
     "metadata": {},
     "output_type": "execute_result"
    }
   ],
   "source": [
    "simulation_kspace = grogupy.Kspace([1, 1, 1])\n",
    "simulation_kspace.plot().show()\n",
    "simulation_kspace"
   ]
  },
  {
   "cell_type": "code",
   "execution_count": 4,
   "metadata": {},
   "outputs": [
    {
     "data": {
      "application/vnd.plotly.v1+json": {
       "config": {
        "plotlyServerURL": "https://plot.ly"
       },
       "data": [
        {
         "mode": "markers",
         "type": "scatter",
         "x": {
          "bdata": "1Y97TYnOMcBMHd1v4c0xwNYAonWAyjHArHywsNHAMcDI/QnbE6wxwLv/QLzLhjHAeh4nUFNLMcDCzsKnevQwwMhFMSQqfjDAJIZVX+PLL8At4QEk4FYuwOw7JOoCoSzAj6RYsViyKsBeycfQnZYowJ2yWp4yXCbAXzEdStMSJMCv6nQ2Q8ohwGx6poQyIh/AVoaHCp/nGsDiqPjxUvgWwGHmphDnYRPAW8RNmyMsEMD6AzBiLbMKwJTkE9/v0AXAEGvZuF2nAcBcuTm6ZU/8vzghp1PogPa/sKGpP/u98b+ws3oe3cLrv1AOhOXIj+W/8COOsd2h4L8Aa0PUsH7ZvwBenygFbNO/wHXVrGBszb/Aq9uNQCvGv0DsGZu5nsC/gNeNAuTNuL8AeeUk7W2yvwDtbbW6Rqu/AJCY+1AcpL8AQHC4/42dvwBuQwJ0ppW/AIwKz8Khj78AeKrSAg2HvwD8ykHiwoC/AJiTCIZUeL8AKNBAdaFxvwBAYJDmhGm/ALDZojxzYr8AQMcn2ahavwCgvqugQFO/AMDXqE/NS78AgJlPcxNEvwCAUSoHAT2/AIBq0K32NL8AAFgWQFQuvwAAb+lN9iW/AAB8+aLYH78AAFLiUB8XvwAA4lSl0BC/AAD8s8N/CL8AAIzxcOEBvwAAeGrXJvq+AACI49op874AADB93iTsvgAAgIDGteS+AACgpgiL3r4AAOCIfJHWvgAAQBNOtdC+AACATtjIyL4AAABlpWnCvgAAAOmlZbu+AACA6QpotL4AAABpvGyuvgAAACkBsaa+AAAAsJ7soL4AAABG3DuZvgAAAIKqypK+AAAA5Jvwi74AAABUBLiEvgAAAJCzn36+AAAACDeIdr4AAABYSXxwvgAAACBT9Ge+AAAAkOZAYb4AAABAg5dYvgAAACDLTFG+AAAAQFf1R74AAACAf0VAvgAAAADHlDW+AAAAAPnJK74AAAAA+TwhvgAAAADiZBS+AAAAALisBr4AAAAAmC/3vQAAAACAE+W9AAAAAIAR0L0AAAAAAFyyvQAAAAAAEIi9AAAAAACAO70=",
          "dtype": "f8"
         },
         "y": {
          "bdata": "myKYtio2pT+Zb/edGdjLP0r5qJQG/+A/JqREaxY97z+FAXCGnK/4P+Z8irKSuwFA3b2KrPzRB0AE3kMTY2cOQP5hILsWnxJA/zh3XsUIFkDqvqrHyUwZQBu7Z1EwSBxA6enH37DbHkAEGmMVC3cgQGRuc4ADNyFA+7/lm3qpIUA2QcgZj84hQIDHu79YqiFAGfOh1ShEIUA2fXp1mqUgQK9W6c0ssx9AMH9xptHWHUA5oSn++8sbQC5pghqiphlAUQqbah14F0AJz3BBzk4VQLcdFkIMNhNA+zk51k42EUAZpQlX86oOQPAxCTp4LgtAgKOusOz6B0DipSUdNhEFQEEtvgwQcAJAz6/WW6UUAEDVqs4zH/b7P+XeAhp7Pfg/Q390bYb19D8s7AngLBTyP6IlNWvtHu8/Bg7N94676j/ZRrspEOzmP6RyQYaBn+M/Ap2qM07G4D8DeA7Li6TcP3UACaEzbdg/05VaFqHP1D8R9QW7Z7fRP3B0fCnrJM4/ohwsMMahyT8Sdfoqg8nFP49zZOfTg8I/9vRhFTR3vz9F329sGb26P9zLvoLIubY/5aduTxlSsz/TeWHWvW6wPxPh1ZSF96s/OKliQDvQpz/je73CjkqkPx58kMnGTaE/QlSp38OJnT/LAcPvGzyZPyEG+uJhlJU/ghliwAR5kj8mwKo+yqiPP8zCa495KIs/p/d0WDhShz9AWazW9QuEPwg4LZqxP4E/GUDR7rO1fT/ad/bfhZt5P0RYYSVkFnY/Bb06ifgPcz/kRDeZZXVwP3H5slt1bWw/m4LL4vuMaD9uG0gMkjJlP0hkJNPqSmI/aZWrfliLXz9PxUlA8ilbPwpC1EEbWlc/EPnzdNcHVD82B8n1KSJRP4pMQAs+NU0//aUruNHJSD8zYlqYGO1EP31pOG01jUE/TsMarNw1PT8E5+PHkxI4P5K7oQ54mjM/acXeb4F1Lz/7usMH/8YoP9Ru/Sd+DiM/E+VLOsZqHD/Hu6+2tFEUP4Q41yqmZQs/UYk1KlXqAD9jMOGTxxTyPorz0vupRd0+fCeJThwotj4=",
          "dtype": "f8"
         }
        }
       ],
       "layout": {
        "autosize": false,
        "height": 700,
        "template": {
         "data": {
          "bar": [
           {
            "error_x": {
             "color": "#2a3f5f"
            },
            "error_y": {
             "color": "#2a3f5f"
            },
            "marker": {
             "line": {
              "color": "#E5ECF6",
              "width": 0.5
             },
             "pattern": {
              "fillmode": "overlay",
              "size": 10,
              "solidity": 0.2
             }
            },
            "type": "bar"
           }
          ],
          "barpolar": [
           {
            "marker": {
             "line": {
              "color": "#E5ECF6",
              "width": 0.5
             },
             "pattern": {
              "fillmode": "overlay",
              "size": 10,
              "solidity": 0.2
             }
            },
            "type": "barpolar"
           }
          ],
          "carpet": [
           {
            "aaxis": {
             "endlinecolor": "#2a3f5f",
             "gridcolor": "white",
             "linecolor": "white",
             "minorgridcolor": "white",
             "startlinecolor": "#2a3f5f"
            },
            "baxis": {
             "endlinecolor": "#2a3f5f",
             "gridcolor": "white",
             "linecolor": "white",
             "minorgridcolor": "white",
             "startlinecolor": "#2a3f5f"
            },
            "type": "carpet"
           }
          ],
          "choropleth": [
           {
            "colorbar": {
             "outlinewidth": 0,
             "ticks": ""
            },
            "type": "choropleth"
           }
          ],
          "contour": [
           {
            "colorbar": {
             "outlinewidth": 0,
             "ticks": ""
            },
            "colorscale": [
             [
              0,
              "#0d0887"
             ],
             [
              0.1111111111111111,
              "#46039f"
             ],
             [
              0.2222222222222222,
              "#7201a8"
             ],
             [
              0.3333333333333333,
              "#9c179e"
             ],
             [
              0.4444444444444444,
              "#bd3786"
             ],
             [
              0.5555555555555556,
              "#d8576b"
             ],
             [
              0.6666666666666666,
              "#ed7953"
             ],
             [
              0.7777777777777778,
              "#fb9f3a"
             ],
             [
              0.8888888888888888,
              "#fdca26"
             ],
             [
              1,
              "#f0f921"
             ]
            ],
            "type": "contour"
           }
          ],
          "contourcarpet": [
           {
            "colorbar": {
             "outlinewidth": 0,
             "ticks": ""
            },
            "type": "contourcarpet"
           }
          ],
          "heatmap": [
           {
            "colorbar": {
             "outlinewidth": 0,
             "ticks": ""
            },
            "colorscale": [
             [
              0,
              "#0d0887"
             ],
             [
              0.1111111111111111,
              "#46039f"
             ],
             [
              0.2222222222222222,
              "#7201a8"
             ],
             [
              0.3333333333333333,
              "#9c179e"
             ],
             [
              0.4444444444444444,
              "#bd3786"
             ],
             [
              0.5555555555555556,
              "#d8576b"
             ],
             [
              0.6666666666666666,
              "#ed7953"
             ],
             [
              0.7777777777777778,
              "#fb9f3a"
             ],
             [
              0.8888888888888888,
              "#fdca26"
             ],
             [
              1,
              "#f0f921"
             ]
            ],
            "type": "heatmap"
           }
          ],
          "histogram": [
           {
            "marker": {
             "pattern": {
              "fillmode": "overlay",
              "size": 10,
              "solidity": 0.2
             }
            },
            "type": "histogram"
           }
          ],
          "histogram2d": [
           {
            "colorbar": {
             "outlinewidth": 0,
             "ticks": ""
            },
            "colorscale": [
             [
              0,
              "#0d0887"
             ],
             [
              0.1111111111111111,
              "#46039f"
             ],
             [
              0.2222222222222222,
              "#7201a8"
             ],
             [
              0.3333333333333333,
              "#9c179e"
             ],
             [
              0.4444444444444444,
              "#bd3786"
             ],
             [
              0.5555555555555556,
              "#d8576b"
             ],
             [
              0.6666666666666666,
              "#ed7953"
             ],
             [
              0.7777777777777778,
              "#fb9f3a"
             ],
             [
              0.8888888888888888,
              "#fdca26"
             ],
             [
              1,
              "#f0f921"
             ]
            ],
            "type": "histogram2d"
           }
          ],
          "histogram2dcontour": [
           {
            "colorbar": {
             "outlinewidth": 0,
             "ticks": ""
            },
            "colorscale": [
             [
              0,
              "#0d0887"
             ],
             [
              0.1111111111111111,
              "#46039f"
             ],
             [
              0.2222222222222222,
              "#7201a8"
             ],
             [
              0.3333333333333333,
              "#9c179e"
             ],
             [
              0.4444444444444444,
              "#bd3786"
             ],
             [
              0.5555555555555556,
              "#d8576b"
             ],
             [
              0.6666666666666666,
              "#ed7953"
             ],
             [
              0.7777777777777778,
              "#fb9f3a"
             ],
             [
              0.8888888888888888,
              "#fdca26"
             ],
             [
              1,
              "#f0f921"
             ]
            ],
            "type": "histogram2dcontour"
           }
          ],
          "mesh3d": [
           {
            "colorbar": {
             "outlinewidth": 0,
             "ticks": ""
            },
            "type": "mesh3d"
           }
          ],
          "parcoords": [
           {
            "line": {
             "colorbar": {
              "outlinewidth": 0,
              "ticks": ""
             }
            },
            "type": "parcoords"
           }
          ],
          "pie": [
           {
            "automargin": true,
            "type": "pie"
           }
          ],
          "scatter": [
           {
            "fillpattern": {
             "fillmode": "overlay",
             "size": 10,
             "solidity": 0.2
            },
            "type": "scatter"
           }
          ],
          "scatter3d": [
           {
            "line": {
             "colorbar": {
              "outlinewidth": 0,
              "ticks": ""
             }
            },
            "marker": {
             "colorbar": {
              "outlinewidth": 0,
              "ticks": ""
             }
            },
            "type": "scatter3d"
           }
          ],
          "scattercarpet": [
           {
            "marker": {
             "colorbar": {
              "outlinewidth": 0,
              "ticks": ""
             }
            },
            "type": "scattercarpet"
           }
          ],
          "scattergeo": [
           {
            "marker": {
             "colorbar": {
              "outlinewidth": 0,
              "ticks": ""
             }
            },
            "type": "scattergeo"
           }
          ],
          "scattergl": [
           {
            "marker": {
             "colorbar": {
              "outlinewidth": 0,
              "ticks": ""
             }
            },
            "type": "scattergl"
           }
          ],
          "scattermap": [
           {
            "marker": {
             "colorbar": {
              "outlinewidth": 0,
              "ticks": ""
             }
            },
            "type": "scattermap"
           }
          ],
          "scattermapbox": [
           {
            "marker": {
             "colorbar": {
              "outlinewidth": 0,
              "ticks": ""
             }
            },
            "type": "scattermapbox"
           }
          ],
          "scatterpolar": [
           {
            "marker": {
             "colorbar": {
              "outlinewidth": 0,
              "ticks": ""
             }
            },
            "type": "scatterpolar"
           }
          ],
          "scatterpolargl": [
           {
            "marker": {
             "colorbar": {
              "outlinewidth": 0,
              "ticks": ""
             }
            },
            "type": "scatterpolargl"
           }
          ],
          "scatterternary": [
           {
            "marker": {
             "colorbar": {
              "outlinewidth": 0,
              "ticks": ""
             }
            },
            "type": "scatterternary"
           }
          ],
          "surface": [
           {
            "colorbar": {
             "outlinewidth": 0,
             "ticks": ""
            },
            "colorscale": [
             [
              0,
              "#0d0887"
             ],
             [
              0.1111111111111111,
              "#46039f"
             ],
             [
              0.2222222222222222,
              "#7201a8"
             ],
             [
              0.3333333333333333,
              "#9c179e"
             ],
             [
              0.4444444444444444,
              "#bd3786"
             ],
             [
              0.5555555555555556,
              "#d8576b"
             ],
             [
              0.6666666666666666,
              "#ed7953"
             ],
             [
              0.7777777777777778,
              "#fb9f3a"
             ],
             [
              0.8888888888888888,
              "#fdca26"
             ],
             [
              1,
              "#f0f921"
             ]
            ],
            "type": "surface"
           }
          ],
          "table": [
           {
            "cells": {
             "fill": {
              "color": "#EBF0F8"
             },
             "line": {
              "color": "white"
             }
            },
            "header": {
             "fill": {
              "color": "#C8D4E3"
             },
             "line": {
              "color": "white"
             }
            },
            "type": "table"
           }
          ]
         },
         "layout": {
          "annotationdefaults": {
           "arrowcolor": "#2a3f5f",
           "arrowhead": 0,
           "arrowwidth": 1
          },
          "autotypenumbers": "strict",
          "coloraxis": {
           "colorbar": {
            "outlinewidth": 0,
            "ticks": ""
           }
          },
          "colorscale": {
           "diverging": [
            [
             0,
             "#8e0152"
            ],
            [
             0.1,
             "#c51b7d"
            ],
            [
             0.2,
             "#de77ae"
            ],
            [
             0.3,
             "#f1b6da"
            ],
            [
             0.4,
             "#fde0ef"
            ],
            [
             0.5,
             "#f7f7f7"
            ],
            [
             0.6,
             "#e6f5d0"
            ],
            [
             0.7,
             "#b8e186"
            ],
            [
             0.8,
             "#7fbc41"
            ],
            [
             0.9,
             "#4d9221"
            ],
            [
             1,
             "#276419"
            ]
           ],
           "sequential": [
            [
             0,
             "#0d0887"
            ],
            [
             0.1111111111111111,
             "#46039f"
            ],
            [
             0.2222222222222222,
             "#7201a8"
            ],
            [
             0.3333333333333333,
             "#9c179e"
            ],
            [
             0.4444444444444444,
             "#bd3786"
            ],
            [
             0.5555555555555556,
             "#d8576b"
            ],
            [
             0.6666666666666666,
             "#ed7953"
            ],
            [
             0.7777777777777778,
             "#fb9f3a"
            ],
            [
             0.8888888888888888,
             "#fdca26"
            ],
            [
             1,
             "#f0f921"
            ]
           ],
           "sequentialminus": [
            [
             0,
             "#0d0887"
            ],
            [
             0.1111111111111111,
             "#46039f"
            ],
            [
             0.2222222222222222,
             "#7201a8"
            ],
            [
             0.3333333333333333,
             "#9c179e"
            ],
            [
             0.4444444444444444,
             "#bd3786"
            ],
            [
             0.5555555555555556,
             "#d8576b"
            ],
            [
             0.6666666666666666,
             "#ed7953"
            ],
            [
             0.7777777777777778,
             "#fb9f3a"
            ],
            [
             0.8888888888888888,
             "#fdca26"
            ],
            [
             1,
             "#f0f921"
            ]
           ]
          },
          "colorway": [
           "#636efa",
           "#EF553B",
           "#00cc96",
           "#ab63fa",
           "#FFA15A",
           "#19d3f3",
           "#FF6692",
           "#B6E880",
           "#FF97FF",
           "#FECB52"
          ],
          "font": {
           "color": "#2a3f5f"
          },
          "geo": {
           "bgcolor": "white",
           "lakecolor": "white",
           "landcolor": "#E5ECF6",
           "showlakes": true,
           "showland": true,
           "subunitcolor": "white"
          },
          "hoverlabel": {
           "align": "left"
          },
          "hovermode": "closest",
          "mapbox": {
           "style": "light"
          },
          "paper_bgcolor": "white",
          "plot_bgcolor": "#E5ECF6",
          "polar": {
           "angularaxis": {
            "gridcolor": "white",
            "linecolor": "white",
            "ticks": ""
           },
           "bgcolor": "#E5ECF6",
           "radialaxis": {
            "gridcolor": "white",
            "linecolor": "white",
            "ticks": ""
           }
          },
          "scene": {
           "xaxis": {
            "backgroundcolor": "#E5ECF6",
            "gridcolor": "white",
            "gridwidth": 2,
            "linecolor": "white",
            "showbackground": true,
            "ticks": "",
            "zerolinecolor": "white"
           },
           "yaxis": {
            "backgroundcolor": "#E5ECF6",
            "gridcolor": "white",
            "gridwidth": 2,
            "linecolor": "white",
            "showbackground": true,
            "ticks": "",
            "zerolinecolor": "white"
           },
           "zaxis": {
            "backgroundcolor": "#E5ECF6",
            "gridcolor": "white",
            "gridwidth": 2,
            "linecolor": "white",
            "showbackground": true,
            "ticks": "",
            "zerolinecolor": "white"
           }
          },
          "shapedefaults": {
           "line": {
            "color": "#2a3f5f"
           }
          },
          "ternary": {
           "aaxis": {
            "gridcolor": "white",
            "linecolor": "white",
            "ticks": ""
           },
           "baxis": {
            "gridcolor": "white",
            "linecolor": "white",
            "ticks": ""
           },
           "bgcolor": "#E5ECF6",
           "caxis": {
            "gridcolor": "white",
            "linecolor": "white",
            "ticks": ""
           }
          },
          "title": {
           "x": 0.05
          },
          "xaxis": {
           "automargin": true,
           "gridcolor": "white",
           "linecolor": "white",
           "ticks": "",
           "title": {
            "standoff": 15
           },
           "zerolinecolor": "white",
           "zerolinewidth": 2
          },
          "yaxis": {
           "automargin": true,
           "gridcolor": "white",
           "linecolor": "white",
           "ticks": "",
           "title": {
            "standoff": 15
           },
           "zerolinecolor": "white",
           "zerolinewidth": 2
          }
         }
        },
        "title": {
         "text": "Energy contour integral"
        },
        "width": 1200,
        "xaxis": {
         "gridwidth": 1,
         "showgrid": true,
         "title": {
          "text": "Real axis [eV]"
         }
        },
        "yaxis": {
         "gridwidth": 1,
         "scaleanchor": "x",
         "scaleratio": 1,
         "showgrid": true,
         "title": {
          "text": "Imaginary axis [eV]"
         }
        }
       }
      }
     },
     "metadata": {},
     "output_type": "display_data"
    },
    {
     "data": {
      "text/plain": [
       "<grogupy.Contour emin=-17.80687896, emax=0, eset=100, esetp=10000>"
      ]
     },
     "execution_count": 4,
     "metadata": {},
     "output_type": "execute_result"
    }
   ],
   "source": [
    "simulation_contour = grogupy.Contour(\n",
    "    eset=100,\n",
    "    esetp=10000,\n",
    "    emin=None,\n",
    "    emax=0,\n",
    "    emin_shift=-5,\n",
    "    emax_shift=0,\n",
    "    eigfile=infile,\n",
    ")\n",
    "simulation_contour.plot().show()\n",
    "simulation_contour"
   ]
  },
  {
   "cell_type": "code",
   "execution_count": 5,
   "metadata": {},
   "outputs": [
    {
     "name": "stderr",
     "output_type": "stream",
     "text": [
      "Spin box Hamiltonian: 100%|██████████| 81/81 [00:00<00:00, 117.16it/s]\n",
      "Spin box Overlap matrix: 100%|██████████| 81/81 [00:00<00:00, 215.30it/s]\n",
      "Symmetrize Hamiltonian: 100%|██████████| 81/81 [00:00<00:00, 1148.12it/s]\n",
      "Transpose Hamiltonian: 100%|██████████| 81/81 [00:00<00:00, 367.25it/s]\n",
      "Calculate V_XCF: 100%|██████████| 81/81 [00:00<00:00, 5630.96it/s]\n",
      "Calculate H_XC: 100%|██████████| 3/3 [00:00<00:00, 58.68it/s]\n"
     ]
    }
   ],
   "source": [
    "simulation_hamiltonian = grogupy.Hamiltonian(\n",
    "    infile,\n",
    "    [0, 0, 1],\n",
    ")"
   ]
  },
  {
   "cell_type": "code",
   "execution_count": 6,
   "metadata": {},
   "outputs": [
    {
     "name": "stderr",
     "output_type": "stream",
     "text": [
      "/Users/danielpozsar/Documents/oktatás/elte/phd/grogu/.venv/lib/python3.9/site-packages/grogupy/physics/builder.py:258: UserWarning:\n",
      "\n",
      "Matlabmode is used, the exchange field reference directions were set to x,y,z!\n",
      "\n"
     ]
    },
    {
     "data": {
      "text/plain": [
       "[{'o': array([1, 0, 0]),\n",
       "  'vw': [array([0, 1, 0]),\n",
       "   array([0, 0, 1]),\n",
       "   array([0.        , 0.70710678, 0.70710678])]},\n",
       " {'o': array([0, 1, 0]),\n",
       "  'vw': [array([1, 0, 0]),\n",
       "   array([0, 0, 1]),\n",
       "   array([0.70710678, 0.        , 0.70710678])]},\n",
       " {'o': array([0, 0, 1]),\n",
       "  'vw': [array([1, 0, 0]),\n",
       "   array([0, 1, 0]),\n",
       "   array([0.70710678, 0.70710678, 0.        ])]}]"
      ]
     },
     "execution_count": 6,
     "metadata": {},
     "output_type": "execute_result"
    }
   ],
   "source": [
    "xyz = np.array([[1, 0, 0], [0, 1, 0], [0, 0, 1]])\n",
    "\n",
    "simulation = grogupy.Builder(xyz, matlabmode=True)\n",
    "\n",
    "simulation.add_kspace(simulation_kspace)\n",
    "simulation.add_contour(simulation_contour)\n",
    "simulation.add_hamiltonian(simulation_hamiltonian)\n",
    "simulation.ref_xcf_orientations"
   ]
  },
  {
   "cell_type": "code",
   "execution_count": 7,
   "metadata": {},
   "outputs": [
    {
     "name": "stderr",
     "output_type": "stream",
     "text": [
      "Add magnetic entities:: 100%|██████████| 3/3 [00:00<00:00, 68.75it/s]\n"
     ]
    },
    {
     "data": {
      "text/plain": [
       "[<grogupy.MagneticEntity tag=0Te(l:2), SBS=10>,\n",
       " <grogupy.MagneticEntity tag=1Te(l:2), SBS=10>,\n",
       " <grogupy.MagneticEntity tag=2Ge(l:2), SBS=10>]"
      ]
     },
     "execution_count": 7,
     "metadata": {},
     "output_type": "execute_result"
    }
   ],
   "source": [
    "magnetic_entities = [\n",
    "    dict(atom=0, l=2),\n",
    "    dict(atom=1, l=2),\n",
    "    dict(atom=2, l=2),\n",
    "]\n",
    "simulation.add_magnetic_entities(magnetic_entities)\n",
    "simulation.magnetic_entities"
   ]
  },
  {
   "cell_type": "code",
   "execution_count": 8,
   "metadata": {},
   "outputs": [
    {
     "name": "stderr",
     "output_type": "stream",
     "text": [
      "Add pairs:: 100%|██████████| 3/3 [00:00<00:00, 4064.25it/s]\n"
     ]
    },
    {
     "data": {
      "text/plain": [
       "[<grogupy.Pair tag1=0Te(l:2), tag2=1Te(l:2), Ruc=[0 0 0]>,\n",
       " <grogupy.Pair tag1=1Te(l:2), tag2=2Ge(l:2), Ruc=[0 0 0]>,\n",
       " <grogupy.Pair tag1=2Ge(l:2), tag2=0Te(l:2), Ruc=[0 0 0]>]"
      ]
     },
     "execution_count": 8,
     "metadata": {},
     "output_type": "execute_result"
    }
   ],
   "source": [
    "pairs = [\n",
    "    dict(ai=0, aj=1, Ruc=np.array([0, 0, 0])),\n",
    "    dict(ai=1, aj=2, Ruc=np.array([0, 0, 0])),\n",
    "    dict(ai=2, aj=0, Ruc=np.array([0, 0, 0])),\n",
    "]\n",
    "simulation.add_pairs(pairs)\n",
    "simulation.pairs"
   ]
  },
  {
   "cell_type": "code",
   "execution_count": 9,
   "metadata": {},
   "outputs": [
    {
     "name": "stderr",
     "output_type": "stream",
     "text": [
      "Rotating Exchange field: 100%|██████████| 3/3 [00:00<00:00, 89.06it/s]\n",
      "Rotating Exchange field: 100%|██████████| 3/3 [00:00<00:00, 56.19it/s]\n",
      "Rotating Exchange field: 100%|██████████| 3/3 [00:00<00:00, 46.72it/s]\n",
      "Parallel over k on CPU0:: 100%|██████████| 1/1 [00:00<00:00,  1.25it/s]\n"
     ]
    }
   ],
   "source": [
    "simulation.solve()"
   ]
  },
  {
   "cell_type": "code",
   "execution_count": 10,
   "metadata": {},
   "outputs": [
    {
     "name": "stdout",
     "output_type": "stream",
     "text": [
      "# ================================================================================\n",
      "# grogupy version: 0.0.4\n",
      "# Input file: /Users/danielpozsar/Downloads/Fe3GeTe2/Fe3GeTe2.fdf\n",
      "# ================================================================================\n",
      "# SLURM job ID: Could not be determined.\n",
      "# Architecture: CPU\n",
      "# Number of nodes in the parallel cluster: 1\n",
      "# Parallelization is over: K\n",
      "# Solver used for Greens function calculation: Sequential\n",
      "# Solver used for Exchange tensor: grogupy\n",
      "# Solver used for Anisotropy tensor: grogupy\n",
      "# ================================================================================\n",
      "# Cell [Ang]:\n",
      "# 3.791001511088653242e+00 0.000000000000000000e+00 0.000000000000000000e+00\n",
      "# -1.895500755544326621e+00 3.283103614407953064e+00 0.000000000000000000e+00\n",
      "# 0.000000000000000000e+00 0.000000000000000000e+00 2.057000819825037041e+01\n",
      "# ================================================================================\n",
      "# DFT axis: [0 0 1]\n",
      "# Quantization axis and perpendicular rotation directions:\n",
      "# [1 0 0] --> [array([0, 1, 0]), array([0, 0, 1]), array([0.        , 0.70710678, 0.70710678])]\n",
      "# [0 1 0] --> [array([1, 0, 0]), array([0, 0, 1]), array([0.70710678, 0.        , 0.70710678])]\n",
      "# [0 0 1] --> [array([1, 0, 0]), array([0, 1, 0]), array([0.70710678, 0.70710678, 0.        ])]\n",
      "# ================================================================================\n",
      "# Parameters for the Brillouin zone sampling:\n",
      "# Number of k points: 1\n",
      "# K points in each directions: [1 1 1]\n",
      "# Parameters for the contour integral:\n",
      "# Eset: 100\n",
      "# Esetp: 10000\n",
      "# Ebot: -17.80687896        WARNING: This was automatically determined!\n",
      "# Etop: 0\n",
      "# ================================================================================\n",
      "# \n",
      "================================================================================\n",
      "cell Angstrom\n",
      "3.791001511088653242e+00 0.000000000000000000e+00 0.000000000000000000e+00\n",
      "-1.895500755544326621e+00 3.283103614407953064e+00 0.000000000000000000e+00\n",
      "0.000000000000000000e+00 0.000000000000000000e+00 2.057000819825037041e+01\n",
      "================================================================================\n",
      "atoms Angstrom\n",
      "name\tx\ty\tz\tSx\tSy\tSz\t# Q\n",
      "0Te(l:2) 1.8955401056909067 1.0943452731329184 13.169763279283933 -1.1573792282694272e-05 7.243620937058734e-06 -0.1542990621652253 # 5.9344759279232955\n",
      "1Te(l:2) 1.8955401871841973 1.0943452736620956 7.400245275102704 1.1580276341040341e-05 -7.248251188743575e-06 -0.15429889036597716 # 5.934476037970447\n",
      "2Ge(l:2) -2.879094451359952e-05 2.188748251453154 10.285004987613723 1.4456197190780197e-09 -1.9965516611258863e-09 -0.16048848517048042 # 3.1927086937618054\n",
      "================================================================================\n",
      "notation\n",
      "double-counting True\n",
      "spin-normalized True\n",
      "exchange-factor 0.5\n",
      "on-site-factor 1\n",
      "================================================================================\n",
      "exchange meV\n",
      "--------------------------------------------------------------------------------\n",
      "0Te(l:2) 1Te(l:2) 0 0 0 # distance [Ang]: 5.769518004181229\n",
      "isotropic -4.506795206692175e-05\n",
      "DMI -3.926143265317806e-08 1.9289972999508897e-09 4.593442766082215e-12 # Dx Dy Dz\n",
      "symmetric-anisotropy 4.332611839511305e-06 -8.482303884952918e-06 4.8751342413389926e-12 -1.9708309349188114e-09 -3.929491098517583e-08 # Sxx Syy Sxy Sxz Syz\n",
      "--------------------------------------------------------------------------------\n",
      "1Te(l:2) 2Ge(l:2) 0 0 0 # distance [Ang]: 3.6211515057462758\n",
      "isotropic 0.0025134023102660395\n",
      "DMI -4.021357403787878e-07 3.827646623725488e-09 -6.682390016499804e-12 # Dx Dy Dz\n",
      "symmetric-anisotropy -3.208838430657701e-05 6.374662184611014e-05 2.041646082640805e-10 -3.896246833431258e-09 -5.697869864311189e-08 # Sxx Syy Sxy Sxz Syz\n",
      "--------------------------------------------------------------------------------\n",
      "2Ge(l:2) 0Te(l:2) 0 0 0 # distance [Ang]: 3.621150331346084\n",
      "isotropic 0.0025143445978351732\n",
      "DMI -4.048319765627899e-07 4.380645189464523e-09 -3.7137492554713856e-10 # Dx Dy Dz\n",
      "symmetric-anisotropy -3.0224329014921347e-05 6.281447689477715e-05 -1.7534370348140685e-10 -4.315757779614829e-09 -7.496390866763758e-07 # Sxx Syy Sxy Sxz Syz\n",
      "--------------------------------------------------------------------------------\n",
      "================================================================================\n",
      "on-site meV\n",
      "--------------------------------------------------------------------------------\n",
      "0Te(l:2)\n",
      "0.00020399032156395537 0.00015365581131612435 0.0 -2.7596967544290734e-08 2.7090701074572107e-08 -2.523565081777529e-05 # Kxx Kyy Kzz Kxy Kxz Kyz\n",
      "--------------------------------------------------------------------------------\n",
      "1Te(l:2)\n",
      "0.000103352741964946 0.00015363833786854943 0.0 -2.1519491307723897e-08 2.096891884846401e-08 2.5241023633655645e-05 # Kxx Kyy Kzz Kxy Kxz Kyz\n",
      "--------------------------------------------------------------------------------\n",
      "2Ge(l:2)\n",
      "-8.909346755595245e-05 -8.908321980733921e-05 0.0 -6.693653444023173e-09 1.8262975767097123e-08 1.0533635162041088e-08 # Kxx Kyy Kzz Kxy Kxz Kyz\n",
      "--------------------------------------------------------------------------------\n",
      "================================================================================\n",
      "\n"
     ]
    }
   ],
   "source": [
    "print(simulation.to_magnopy())"
   ]
  },
  {
   "cell_type": "code",
   "execution_count": 11,
   "metadata": {},
   "outputs": [
    {
     "name": "stderr",
     "output_type": "stream",
     "text": [
      "/Users/danielpozsar/Documents/oktatás/elte/phd/grogu/.venv/lib/python3.9/site-packages/grogupy/physics/utilities.py:534: UserWarning:\n",
      "\n",
      "This is experimenal!\n",
      "\n",
      "/Users/danielpozsar/Documents/oktatás/elte/phd/grogu/.venv/lib/python3.9/site-packages/grogupy/physics/utilities.py:676: UserWarning:\n",
      "\n",
      "This is experimenal!\n",
      "\n"
     ]
    }
   ],
   "source": [
    "K_fit = []\n",
    "K_calc = []\n",
    "K_cons = []\n",
    "for mag_ent in simulation.magnetic_entities:\n",
    "    mag_ent.fit_anisotropy_tensor(simulation.ref_xcf_orientations)\n",
    "    K_fit.append(mag_ent.K_meV)\n",
    "    mag_ent.calculate_anisotropy()\n",
    "    K_calc.append(mag_ent.K_meV)\n",
    "    K_cons.append(mag_ent.K_consistency_meV)\n",
    "\n",
    "K_fit = np.array(K_fit)\n",
    "K_calc = np.array(K_calc)\n",
    "\n",
    "\n",
    "J_fit = []\n",
    "D_fit = []\n",
    "S_fit = []\n",
    "J_calc = []\n",
    "D_calc = []\n",
    "S_calc = []\n",
    "for pair in simulation.pairs:\n",
    "    pair.fit_exchange_tensor(simulation.ref_xcf_orientations)\n",
    "    J_fit.append(pair.J_meV)\n",
    "    D_fit.append(pair.D_meV)\n",
    "    S_fit.append(pair.J_S_meV)\n",
    "    pair.calculate_exchange_tensor()\n",
    "    J_calc.append(pair.J_meV)\n",
    "    D_calc.append(pair.D_meV)\n",
    "    S_calc.append(pair.J_S_meV)\n",
    "\n",
    "J_fit = np.array(J_fit)\n",
    "J_calc = np.array(J_calc)\n",
    "D_fit = np.array(D_fit)\n",
    "D_calc = np.array(D_calc)\n",
    "S_fit = np.array(S_fit)\n",
    "S_calc = np.array(S_calc)"
   ]
  },
  {
   "cell_type": "code",
   "execution_count": 12,
   "metadata": {},
   "outputs": [
    {
     "name": "stderr",
     "output_type": "stream",
     "text": [
      "Add magnetic entities:: 100%|██████████| 3/3 [00:00<00:00, 50.03it/s]\n",
      "Add pairs:: 100%|██████████| 3/3 [00:00<00:00, 4707.41it/s]\n",
      "Rotating Exchange field: 100%|██████████| 3/3 [00:00<00:00, 83.80it/s]\n",
      "Rotating Exchange field: 100%|██████████| 3/3 [00:00<00:00, 53.91it/s]\n",
      "Rotating Exchange field: 100%|██████████| 3/3 [00:00<00:00, 73.63it/s]\n",
      "Parallel over k on CPU0:: 100%|██████████| 1/1 [00:00<00:00,  1.49it/s]\n"
     ]
    }
   ],
   "source": [
    "xyz = np.array([[1, 0, 0], [0, 1, 0], [0, 0, 1]])\n",
    "\n",
    "simulation_2 = grogupy.Builder(xyz, matlabmode=False)\n",
    "\n",
    "simulation_2.add_kspace(simulation_kspace)\n",
    "simulation_2.add_contour(simulation_contour)\n",
    "simulation_2.add_hamiltonian(simulation_hamiltonian)\n",
    "simulation_2.add_magnetic_entities(magnetic_entities)\n",
    "simulation_2.add_pairs(pairs)\n",
    "simulation_2.pairs\n",
    "simulation_2.solve()\n",
    "\n",
    "J_fit_2 = []\n",
    "D_fit_2 = []\n",
    "S_fit_2 = []\n",
    "for pair in simulation_2.pairs:\n",
    "    pair.fit_exchange_tensor(simulation_2.ref_xcf_orientations)\n",
    "    J_fit_2.append(pair.J_meV)\n",
    "    D_fit_2.append(pair.D_meV)\n",
    "    S_fit_2.append(pair.J_S_meV)\n",
    "\n",
    "J_fit_2 = np.array(J_fit_2)\n",
    "D_fit_2 = np.array(D_fit_2)\n",
    "S_fit_2 = np.array(S_fit_2)\n",
    "\n",
    "K_fit_2 = []\n",
    "for mag_ent in simulation_2.magnetic_entities:\n",
    "    mag_ent.fit_anisotropy_tensor(simulation_2.ref_xcf_orientations)\n",
    "    K_fit_2.append(mag_ent.K_meV)\n",
    "K_fit_2 = np.array(K_fit_2)"
   ]
  },
  {
   "cell_type": "code",
   "execution_count": 13,
   "metadata": {},
   "outputs": [
    {
     "name": "stderr",
     "output_type": "stream",
     "text": [
      "Add magnetic entities:: 100%|██████████| 3/3 [00:00<00:00, 41.42it/s]\n",
      "Add pairs:: 100%|██████████| 3/3 [00:00<00:00, 3759.46it/s]\n",
      "Rotating Exchange field: 100%|██████████| 3/3 [00:00<00:00, 83.61it/s]\n",
      "Rotating Exchange field: 100%|██████████| 3/3 [00:00<00:00, 50.38it/s]\n",
      "Rotating Exchange field: 100%|██████████| 3/3 [00:00<00:00, 27.87it/s]\n",
      "Parallel over k on CPU0:: 100%|██████████| 1/1 [00:01<00:00,  1.03s/it]\n"
     ]
    }
   ],
   "source": [
    "xyz = np.array(\n",
    "    [\n",
    "        [np.cos(np.pi / 3), np.sin(np.pi / 3), 0],\n",
    "        [np.cos(2 * np.pi / 3), np.sin(2 * np.pi / 3), 0],\n",
    "        [1, 0, 0],\n",
    "        # [0, 1, 0],\n",
    "        # [0, 0, 1],\n",
    "    ]\n",
    ")\n",
    "\n",
    "simulation_3 = grogupy.Builder(xyz)\n",
    "\n",
    "simulation_3.add_kspace(simulation_kspace)\n",
    "simulation_3.add_contour(simulation_contour)\n",
    "simulation_3.add_hamiltonian(simulation_hamiltonian)\n",
    "simulation_3.add_magnetic_entities(magnetic_entities)\n",
    "simulation_3.add_pairs(pairs)\n",
    "simulation_3.solve()\n",
    "\n",
    "J_fit_3 = []\n",
    "D_fit_3 = []\n",
    "S_fit_3 = []\n",
    "for pair in simulation_3.pairs:\n",
    "    pair.fit_exchange_tensor(simulation_3.ref_xcf_orientations)\n",
    "    J_fit_3.append(pair.J_meV)\n",
    "    D_fit_3.append(pair.D_meV)\n",
    "    S_fit_3.append(pair.J_S_meV)\n",
    "\n",
    "J_fit_3 = np.array(J_fit_3)\n",
    "D_fit_3 = np.array(D_fit_3)\n",
    "S_fit_3 = np.array(S_fit_3)\n",
    "\n",
    "K_fit_3 = []\n",
    "for mag_ent in simulation_3.magnetic_entities:\n",
    "    mag_ent.fit_anisotropy_tensor(simulation_3.ref_xcf_orientations)\n",
    "    K_fit_3.append(mag_ent.K_meV)\n",
    "K_fit_3 = np.array(K_fit_3)"
   ]
  },
  {
   "cell_type": "code",
   "execution_count": 14,
   "metadata": {},
   "outputs": [],
   "source": [
    "rounding = 3\n",
    "K_cons = np.around(K_cons, rounding)\n",
    "\n",
    "J_calc = np.around(J_calc, rounding)\n",
    "D_calc = np.around(D_calc, rounding)\n",
    "S_calc = np.around(S_calc, rounding)\n",
    "K_calc = np.around(K_calc, rounding)\n",
    "\n",
    "\n",
    "J_fit = np.around(J_fit, rounding)\n",
    "D_fit = np.around(D_fit, rounding)\n",
    "S_fit = np.around(S_fit, rounding)\n",
    "K_fit = np.around(K_fit, rounding)\n",
    "\n",
    "J_fit_2 = np.around(J_fit_2, rounding)\n",
    "D_fit_2 = np.around(D_fit_2, rounding)\n",
    "S_fit_2 = np.around(S_fit_2, rounding)\n",
    "K_fit_2 = np.around(K_fit_2, rounding)\n",
    "\n",
    "J_fit_3 = np.around(J_fit_3, rounding)\n",
    "D_fit_3 = np.around(D_fit_3, rounding)\n",
    "S_fit_3 = np.around(S_fit_3, rounding)\n",
    "K_fit_3 = np.around(K_fit_3, rounding)"
   ]
  },
  {
   "cell_type": "code",
   "execution_count": 15,
   "metadata": {},
   "outputs": [
    {
     "name": "stdout",
     "output_type": "stream",
     "text": [
      "K_cons should be zero\n"
     ]
    },
    {
     "data": {
      "text/plain": [
       "array([0., 0., 0.])"
      ]
     },
     "execution_count": 15,
     "metadata": {},
     "output_type": "execute_result"
    }
   ],
   "source": [
    "print(\"K_cons should be zero\")\n",
    "K_cons"
   ]
  },
  {
   "cell_type": "code",
   "execution_count": 16,
   "metadata": {},
   "outputs": [
    {
     "name": "stdout",
     "output_type": "stream",
     "text": [
      "J_fit, J_calc\n",
      "False\n",
      "K_fit, K_calc\n",
      "True\n",
      "\n",
      "J_fit, J_fit2\n",
      "True\n",
      "K_fit, K_fit2\n",
      "True\n",
      "\n",
      "J_fit, J_fit3\n",
      "False\n",
      "K_fit, K_fit3\n",
      "True\n"
     ]
    }
   ],
   "source": [
    "print(\"J_fit, J_calc\")\n",
    "print((J_fit == J_calc).all())\n",
    "print(\"K_fit, K_calc\")\n",
    "print((K_fit == K_calc).all())\n",
    "print()\n",
    "print(\"J_fit, J_fit2\")\n",
    "print((J_fit == J_fit_2).all())\n",
    "print(\"K_fit, K_fit2\")\n",
    "print((K_fit == K_fit_2).all())\n",
    "print()\n",
    "print(\"J_fit, J_fit3\")\n",
    "print((J_fit == J_fit_3).all())\n",
    "print(\"K_fit, K_fit3\")\n",
    "print((K_fit == K_fit_3).all())"
   ]
  },
  {
   "cell_type": "code",
   "execution_count": 17,
   "metadata": {},
   "outputs": [
    {
     "name": "stdout",
     "output_type": "stream",
     "text": [
      "Off diagonal part is equal\n",
      "D_fit, D_calc\n",
      "True\n",
      "\n",
      "S_fit, S_calc\n",
      "True\n",
      "\n",
      "Jfit, Jcalc\n",
      "[-0.     0.003  0.003]\n",
      "[-0.     0.002  0.002]\n",
      "\n",
      "[-0.     0.003  0.003]\n",
      "[-0.     0.003  0.003]\n",
      "\n",
      "[-0.     0.002  0.002]\n",
      "[-0.     0.002  0.002]\n"
     ]
    }
   ],
   "source": [
    "print(\"Off diagonal part is equal\")\n",
    "print(\"D_fit, D_calc\")\n",
    "print((D_fit == D_calc).all())\n",
    "print()\n",
    "print(\"S_fit, S_calc\")\n",
    "print((S_fit == S_calc).all())\n",
    "print()\n",
    "print(\"Jfit, Jcalc\")\n",
    "print(J_fit[:, 0, 0])\n",
    "print(J_calc[:, 0, 0])\n",
    "print()\n",
    "print(J_fit[:, 1, 1])\n",
    "print(J_calc[:, 1, 1])\n",
    "print()\n",
    "print(J_fit[:, 2, 2])\n",
    "print(J_calc[:, 2, 2])"
   ]
  },
  {
   "cell_type": "code",
   "execution_count": 18,
   "metadata": {},
   "outputs": [
    {
     "name": "stdout",
     "output_type": "stream",
     "text": [
      "K_fit, K_calc\n",
      "[ 0.  0. -0.]\n",
      "[ 0.  0. -0.]\n",
      "\n",
      "[ 0.  0. -0.]\n",
      "[ 0.  0. -0.]\n",
      "\n",
      "[-0. -0.  0.]\n",
      "[-0. -0. -0.]\n",
      "\n",
      "[0. 0. 0.]\n",
      "[0. 0. 0.]\n",
      "\n",
      "[-0.  0. -0.]\n",
      "[-0.  0.  0.]\n"
     ]
    }
   ],
   "source": [
    "print(\"K_fit, K_calc\")\n",
    "print(K_fit[:, 0, 0])\n",
    "print(K_calc[:, 0, 0])\n",
    "print()\n",
    "print(K_fit[:, 1, 1])\n",
    "print(K_calc[:, 1, 1])\n",
    "print()\n",
    "print(K_fit[:, 0, 1])\n",
    "print(K_calc[:, 0, 1])\n",
    "print()\n",
    "print(K_fit[:, 0, 2])\n",
    "print(K_calc[:, 0, 2])\n",
    "print()\n",
    "print(K_fit[:, 1, 2])\n",
    "print(K_calc[:, 1, 2])"
   ]
  },
  {
   "cell_type": "code",
   "execution_count": 19,
   "metadata": {},
   "outputs": [
    {
     "name": "stdout",
     "output_type": "stream",
     "text": [
      "Off diagonal part is equal\n",
      "D_fit, D_fit_3\n",
      "False\n",
      "\n",
      "S_fit, S_fit_3\n",
      "False\n",
      "\n",
      "J_fit, J_fit_3\n",
      "[-0.     0.003  0.003]\n",
      "[ 0.    -0.004 -0.004]\n",
      "\n",
      "[-0.     0.003  0.003]\n",
      "[-0.     0.005  0.005]\n",
      "\n",
      "[-0.     0.002  0.002]\n",
      "[-0.     0.002  0.002]\n"
     ]
    }
   ],
   "source": [
    "print(\"Off diagonal part is equal\")\n",
    "print(\"D_fit, D_fit_3\")\n",
    "print((D_fit == D_fit_3).all())\n",
    "print()\n",
    "print(\"S_fit, S_fit_3\")\n",
    "print((S_fit == S_fit_3).all())\n",
    "print()\n",
    "print(\"J_fit, J_fit_3\")\n",
    "print(J_fit[:, 0, 0])\n",
    "print(J_fit_3[:, 0, 0])\n",
    "print()\n",
    "print(J_fit[:, 1, 1])\n",
    "print(J_fit_3[:, 1, 1])\n",
    "print()\n",
    "print(J_fit[:, 2, 2])\n",
    "print(J_fit_3[:, 2, 2])"
   ]
  },
  {
   "cell_type": "code",
   "execution_count": 20,
   "metadata": {},
   "outputs": [
    {
     "name": "stdout",
     "output_type": "stream",
     "text": [
      "K_fit, K_fit_3\n",
      "[ 0.  0. -0.]\n",
      "[ 0. -0.  0.]\n",
      "\n",
      "[ 0.  0. -0.]\n",
      "[ 0.  0. -0.]\n",
      "\n",
      "[-0. -0.  0.]\n",
      "[0. 0. 0.]\n",
      "\n",
      "[0. 0. 0.]\n",
      "[ 0.  0. -0.]\n",
      "\n",
      "[-0.  0. -0.]\n",
      "[-0. -0.  0.]\n"
     ]
    }
   ],
   "source": [
    "print(\"K_fit, K_fit_3\")\n",
    "print(K_fit[:, 0, 0])\n",
    "print(K_fit_3[:, 0, 0])\n",
    "print()\n",
    "print(K_fit[:, 1, 1])\n",
    "print(K_fit_3[:, 1, 1])\n",
    "print()\n",
    "print(K_fit[:, 0, 1])\n",
    "print(K_fit_3[:, 0, 1])\n",
    "print()\n",
    "print(K_fit[:, 0, 2])\n",
    "print(K_fit_3[:, 0, 2])\n",
    "print()\n",
    "print(K_fit[:, 1, 2])\n",
    "print(K_fit_3[:, 1, 2])"
   ]
  },
  {
   "cell_type": "code",
   "execution_count": 21,
   "metadata": {},
   "outputs": [
    {
     "data": {
      "text/plain": [
       "array([[ 2.22044605e-16, -1.00000000e+00,  0.00000000e+00],\n",
       "       [ 1.00000000e+00,  2.22044605e-16,  0.00000000e+00],\n",
       "       [ 0.00000000e+00,  0.00000000e+00,  1.00000000e+00]])"
      ]
     },
     "execution_count": 21,
     "metadata": {},
     "output_type": "execute_result"
    }
   ],
   "source": [
    "from scipy.spatial.transform import Rotation as R\n",
    "import numpy as np\n",
    "\n",
    "r = R.from_rotvec(np.pi / 2 * np.array([0, 0, 1]))\n",
    "r.as_matrix()"
   ]
  },
  {
   "cell_type": "code",
   "execution_count": 22,
   "metadata": {},
   "outputs": [],
   "source": [
    "p1 = simulation.pairs[0]\n",
    "p2 = p1.copy()"
   ]
  },
  {
   "cell_type": "code",
   "execution_count": 23,
   "metadata": {},
   "outputs": [],
   "source": [
    "grogupy.save(simulation, \"test_builder.pkl\", compress=0)\n",
    "grogupy.save(simulation.contour, \"test_contour.pkl\", compress=0)\n",
    "grogupy.save(simulation.kspace, \"test_kspace.pkl\", compress=0)\n",
    "grogupy.save(simulation.pairs[0], \"test_pair.pkl\", compress=0)\n",
    "grogupy.save(simulation.magnetic_entities[0], \"test_magnetic_entity.pkl\", compress=0)"
   ]
  },
  {
   "cell_type": "code",
   "execution_count": null,
   "metadata": {},
   "outputs": [],
   "source": []
  }
 ],
 "metadata": {
  "kernelspec": {
   "display_name": ".venv",
   "language": "python",
   "name": "python3"
  },
  "language_info": {
   "codemirror_mode": {
    "name": "ipython",
    "version": 3
   },
   "file_extension": ".py",
   "mimetype": "text/x-python",
   "name": "python",
   "nbconvert_exporter": "python",
   "pygments_lexer": "ipython3",
   "version": "3.9.6"
  }
 },
 "nbformat": 4,
 "nbformat_minor": 2
}
