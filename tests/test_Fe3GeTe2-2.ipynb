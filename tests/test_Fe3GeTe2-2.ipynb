{
 "cells": [
  {
   "cell_type": "code",
   "execution_count": 1,
   "id": "c3d47c88-9e5c-4529-8446-098cddf0acf4",
   "metadata": {},
   "outputs": [],
   "source": [
    "from timeit import default_timer as timer\n",
    "\n",
    "start = timer()"
   ]
  },
  {
   "cell_type": "code",
   "execution_count": 2,
   "id": "e5be733d-71e0-47e5-aede-06e5762832c6",
   "metadata": {},
   "outputs": [
    {
     "name": "stderr",
     "output_type": "stream",
     "text": [
      "/home/c_magpd/.local/lib/python3.10/site-packages/grogu/_tqdm.py:26: TqdmExperimentalWarning: Using `tqdm.autonotebook.tqdm` in notebook mode. Use `tqdm.tqdm` instead to force console mode (e.g. in jupyter console)\n",
      "  from tqdm.autonotebook import tqdm as _tqdm\n"
     ]
    }
   ],
   "source": [
    "import os\n",
    "import cupy as cp\n",
    "import numpy as np\n",
    "\n",
    "os.environ[\"GROGUPY_ARCHITECTURE\"] = \"GPU\"\n",
    "os.environ[\"GROGUPY_PARALLEL_SIZE\"] = str(cp.cuda.runtime.getDeviceCount())\n",
    "import grogu\n",
    "import pickle\n",
    "import sisl\n",
    "from concurrent.futures import ThreadPoolExecutor"
   ]
  },
  {
   "cell_type": "code",
   "execution_count": 3,
   "id": "4d749bef-b237-4d94-9dea-fc34307e84a2",
   "metadata": {},
   "outputs": [
    {
     "data": {
      "text/plain": [
       "1"
      ]
     },
     "execution_count": 3,
     "metadata": {},
     "output_type": "execute_result"
    }
   ],
   "source": [
    "grogu._environ.GROGUPY_GET_ENVIRONMENT_VARIABLE(\"GROGUPY_PARALLEL_SIZE\")"
   ]
  },
  {
   "cell_type": "code",
   "execution_count": 4,
   "id": "c430d670-6e92-449c-ac85-d77980208b7a",
   "metadata": {},
   "outputs": [],
   "source": [
    "infile = \"/home/c_magpd/c_magex/dani/grogu_testing/lat3_791/Fe3GeTe2.fdf\""
   ]
  },
  {
   "cell_type": "code",
   "execution_count": 5,
   "id": "6a3628fd-8ef0-40c1-a4cc-b1cce2c69626",
   "metadata": {},
   "outputs": [
    {
     "data": {
      "application/vnd.jupyter.widget-view+json": {
       "model_id": "e808e173c5774b93b17f627551a3fb82",
       "version_major": 2,
       "version_minor": 0
      },
      "text/plain": [
       "Spin box Hamiltonian:   0%|          | 0/81 [00:00<?, ?it/s]"
      ]
     },
     "metadata": {},
     "output_type": "display_data"
    },
    {
     "data": {
      "application/vnd.jupyter.widget-view+json": {
       "model_id": "d3ddc50f267442849387f650276d03a2",
       "version_major": 2,
       "version_minor": 0
      },
      "text/plain": [
       "Spin box Overlap matrix:   0%|          | 0/81 [00:00<?, ?it/s]"
      ]
     },
     "metadata": {},
     "output_type": "display_data"
    },
    {
     "data": {
      "application/vnd.jupyter.widget-view+json": {
       "model_id": "46ba32b2b7b640b89ff0ada691146ca6",
       "version_major": 2,
       "version_minor": 0
      },
      "text/plain": [
       "Symmetrize Hamiltonian:   0%|          | 0/81 [00:00<?, ?it/s]"
      ]
     },
     "metadata": {},
     "output_type": "display_data"
    },
    {
     "data": {
      "application/vnd.jupyter.widget-view+json": {
       "model_id": "9bf9664156584640a951565ce067e8c2",
       "version_major": 2,
       "version_minor": 0
      },
      "text/plain": [
       "Transpose Hamiltonian:   0%|          | 0/81 [00:00<?, ?it/s]"
      ]
     },
     "metadata": {},
     "output_type": "display_data"
    },
    {
     "data": {
      "application/vnd.jupyter.widget-view+json": {
       "model_id": "72096f24869f42ab912b3cacf34e70ca",
       "version_major": 2,
       "version_minor": 0
      },
      "text/plain": [
       "Spin trace H_TRB:   0%|          | 0/81 [00:00<?, ?it/s]"
      ]
     },
     "metadata": {},
     "output_type": "display_data"
    },
    {
     "data": {
      "application/vnd.jupyter.widget-view+json": {
       "model_id": "eefa4dc8e20e4b03879f262ddfb64469",
       "version_major": 2,
       "version_minor": 0
      },
      "text/plain": [
       "Calculate exchange potential: 0it [00:00, ?it/s]"
      ]
     },
     "metadata": {},
     "output_type": "display_data"
    },
    {
     "data": {
      "application/vnd.jupyter.widget-view+json": {
       "model_id": "e403dbb19b4e40a19b8e3f8d67eb047d",
       "version_major": 2,
       "version_minor": 0
      },
      "text/plain": [
       "Add magnetic entities:   0%|          | 0/3 [00:00<?, ?it/s]"
      ]
     },
     "metadata": {},
     "output_type": "display_data"
    },
    {
     "data": {
      "application/vnd.jupyter.widget-view+json": {
       "model_id": "eb9697c9ef784f1395a62ab6df1b0896",
       "version_major": 2,
       "version_minor": 0
      },
      "text/plain": [
       "Add pairs:   0%|          | 0/7 [00:00<?, ?it/s]"
      ]
     },
     "metadata": {},
     "output_type": "display_data"
    },
    {
     "data": {
      "application/vnd.jupyter.widget-view+json": {
       "model_id": "214d099748e24fae84d467e7abd591e1",
       "version_major": 2,
       "version_minor": 0
      },
      "text/plain": [
       "Rotating Exchange field: 0it [00:00, ?it/s]"
      ]
     },
     "metadata": {},
     "output_type": "display_data"
    },
    {
     "data": {
      "application/vnd.jupyter.widget-view+json": {
       "model_id": "bc994643b9e947ae957271fe377c7303",
       "version_major": 2,
       "version_minor": 0
      },
      "text/plain": [
       "Rotating Exchange field: 0it [00:00, ?it/s]"
      ]
     },
     "metadata": {},
     "output_type": "display_data"
    },
    {
     "data": {
      "application/vnd.jupyter.widget-view+json": {
       "model_id": "faa81342307441fcb277e4a01c3a4cae",
       "version_major": 2,
       "version_minor": 0
      },
      "text/plain": [
       "Rotating Exchange field: 0it [00:00, ?it/s]"
      ]
     },
     "metadata": {},
     "output_type": "display_data"
    },
    {
     "name": "stdout",
     "output_type": "stream",
     "text": [
      "0.08846067298436537  min\n",
      "================================================================================\n",
      "grogu version: 1.0.0\n",
      "Input file: /home/c_magpd/c_magex/dani/grogu_testing/lat3_791/Fe3GeTe2.fdf\n",
      "================================================================================\n",
      "SLURM job ID: 9858751\n",
      "Architecture: GPU\n",
      "Number of GPUs in the cluster: 1\n",
      "Solver used for Exchange tensor: Fit\n",
      "Solver used for Anisotropy tensor: Fit\n",
      "================================================================================\n",
      "Cell [Ang]:\n",
      "3.791001511088653242e+00 0.000000000000000000e+00 0.000000000000000000e+00\n",
      "-1.895500755544326621e+00 3.283103614407953064e+00 0.000000000000000000e+00\n",
      "0.000000000000000000e+00 0.000000000000000000e+00 2.057000819825037041e+01\n",
      "\n",
      "================================================================================\n",
      "DFT axis: [0 0 1]\n",
      "Quantization axis and perpendicular rotation directions:\n",
      "[1. 0. 0.] --> [array([ 0.,  0., -1.]), array([0., 1., 0.])]\n",
      "[0. 1. 0.] --> [array([1., 0., 0.]), array([ 0.,  0., -1.])]\n",
      "[0. 0. 1.] --> [array([1., 0., 0.]), array([0., 1., 0.])]\n",
      "================================================================================\n",
      "Parameters for the contour integral:\n",
      "Number of k points: 100\n",
      "k point directions: xy\n",
      "Ebot: -12.806878959999999        WARNING: This was automatically determined!\n",
      "Etop: 0\n",
      "Eset: 600\n",
      "Esetp: 1000\n",
      "================================================================================\n",
      "\n"
     ]
    }
   ],
   "source": [
    "kspace = grogu.Kspace(\n",
    "    \"xy\",\n",
    "    100,\n",
    ")\n",
    "contour = grogu.Contour(\n",
    "    None,\n",
    "    600,\n",
    "    1000,\n",
    "    eigfile=infile,\n",
    ")\n",
    "hamiltonian = grogu.Hamiltonian(\n",
    "    infile,\n",
    "    [0, 0, 1],\n",
    ")\n",
    "simulation = grogu.Builder(np.array([[1, 0, 0], [0, 1, 0], [0, 0, 1]]))\n",
    "simulation.add_kspace(kspace)\n",
    "simulation.add_contour(contour)\n",
    "simulation.add_hamiltonian(hamiltonian)\n",
    "magnetic_entities = [\n",
    "    dict(atom=3, l=2),\n",
    "    dict(atom=4, l=2),\n",
    "    dict(atom=5, l=2),\n",
    "]\n",
    "pairs = [\n",
    "    dict(ai=0, aj=1, Ruc=np.array([0, 0, 0])),\n",
    "    dict(ai=0, aj=2, Ruc=np.array([0, 0, 0])),\n",
    "    dict(ai=1, aj=2, Ruc=np.array([0, 0, 0])),\n",
    "    dict(ai=0, aj=0, Ruc=np.array([1, 0, 0])),\n",
    "    dict(ai=0, aj=1, Ruc=np.array([1, 0, 0])),\n",
    "    dict(ai=0, aj=2, Ruc=np.array([1, 0, 0])),\n",
    "    dict(ai=0, aj=0, Ruc=np.array([2, 0, 0])),\n",
    "]\n",
    "magnetic_entities = simulation.create_magnetic_entities(magnetic_entities)\n",
    "simulation.add_magnetic_entities(magnetic_entities)\n",
    "pairs = simulation.create_pairs(pairs)\n",
    "simulation.add_pairs(pairs)\n",
    "\n",
    "simulation.finalize()\n",
    "print((timer() - start) / 60, \" min\")\n",
    "print(simulation)"
   ]
  },
  {
   "cell_type": "code",
   "execution_count": null,
   "id": "839fb495-1d62-482d-8e44-a86384d4660f",
   "metadata": {},
   "outputs": [
    {
     "name": "stdout",
     "output_type": "stream",
     "text": [
      "0.09313269895113384  min\n"
     ]
    },
    {
     "data": {
      "application/vnd.jupyter.widget-view+json": {
       "model_id": "c0841e0df47a467998182d20c40da8d3",
       "version_major": 2,
       "version_minor": 0
      },
      "text/plain": [
       "  0%|          | 0/2500 [00:00<?, ?it/s]"
      ]
     },
     "metadata": {},
     "output_type": "display_data"
    }
   ],
   "source": [
    "num_cpu = 4\n",
    "builder = simulation\n",
    "_tqdm = grogu._tqdm._tqdm\n",
    "\n",
    "# iterate over the reference directions (quantization axes)\n",
    "G_mag = []\n",
    "G_pair_ij = []\n",
    "G_pair_ji = []\n",
    "\n",
    "for orient in builder.ref_xcf_orientations:\n",
    "    G_mag.append([])\n",
    "    G_pair_ij.append([])\n",
    "    G_pair_ji.append([])\n",
    "\n",
    "    # obtain rotated exchange field and Hamiltonian\n",
    "    for mag_ent in builder.magnetic_entities:\n",
    "        G_mag[-1].append(\n",
    "            cp.zeros(\n",
    "                (builder.contour.eset, mag_ent.SBS, mag_ent.SBS),\n",
    "                dtype=\"complex128\",\n",
    "            )\n",
    "        )\n",
    "\n",
    "    for pair in builder.pairs:\n",
    "        G_pair_ij[-1].append(\n",
    "            cp.zeros((builder.contour.eset, pair.SBS1, pair.SBS2), dtype=\"complex128\")\n",
    "        )\n",
    "        G_pair_ji[-1].append(\n",
    "            cp.zeros((builder.contour.eset, pair.SBS2, pair.SBS1), dtype=\"complex128\")\n",
    "        )\n",
    "G_mag = cp.array(G_mag)\n",
    "G_pair_ij = cp.array(G_pair_ij)\n",
    "G_pair_ji = cp.array(G_pair_ji)\n",
    "\n",
    "SBI = cp.array([m.spin_box_indices for m in builder.magnetic_entities])\n",
    "SBI1 = cp.array([p.SBI1 for p in builder.pairs])\n",
    "SBI2 = cp.array([p.SBI2 for p in builder.pairs])\n",
    "Ruc = cp.array([p.supercell_shift for p in builder.pairs])\n",
    "\n",
    "sc_off = cp.array(builder._dh.sc_off)\n",
    "eset = builder.contour.eset\n",
    "\n",
    "\n",
    "rotated_H = [H.H for H in builder._rotated_hamiltonians]\n",
    "rotated_S = [H.S for H in builder._rotated_hamiltonians]\n",
    "\n",
    "all_kpoints = np.array_split(builder.kspace.kpoints, num_cpu)\n",
    "all_kweights = np.array_split(builder.kspace.weights, num_cpu)\n",
    "samples = cp.array(builder.contour.samples.reshape(eset, 1, 1))\n",
    "print((timer() - start) / 60, \" min\")\n",
    "\n",
    "from concurrent.futures import ThreadPoolExecutor\n",
    "\n",
    "\n",
    "def process_gpu(gpu_number):\n",
    "    with cp.cuda.Device(gpu_number):\n",
    "        local_kpoints = all_kpoints[gpu_number]\n",
    "        local_kweights = all_kweights[gpu_number]\n",
    "        local_kpoints = cp.array(local_kpoints)\n",
    "        local_kweights = cp.array(local_kweights)\n",
    "        local_SBI = cp.array(SBI)\n",
    "        local_SBI1 = cp.array(SBI1)\n",
    "        local_SBI2 = cp.array(SBI2)\n",
    "        local_Ruc = cp.array(Ruc)\n",
    "\n",
    "        local_sc_off = cp.array(sc_off)\n",
    "        local_samples = cp.array(samples)\n",
    "\n",
    "        local_G_mag = cp.zeros_like(G_mag)\n",
    "        local_G_pair_ij = cp.zeros_like(G_pair_ij)\n",
    "        local_G_pair_ji = cp.zeros_like(G_pair_ji)\n",
    "\n",
    "        for i in _tqdm(range(len(local_kpoints))):\n",
    "            # weight of k point in BZ integral\n",
    "            wk = local_kweights[i]\n",
    "            k = local_kpoints[i]\n",
    "\n",
    "            # iterate over reference directions\n",
    "            for j in range(len(rotated_H)):\n",
    "                # calculate Hamiltonian and Overlap matrix in a given k point\n",
    "                # this generates the list of phases\n",
    "                phases = cp.exp(-1j * 2 * cp.pi * k @ local_sc_off.T)\n",
    "\n",
    "                # phases applied to the hamiltonian\n",
    "                HK = cp.einsum(\"abc,a->bc\", cp.array(rotated_H[j]), phases)\n",
    "                SK = cp.einsum(\"abc,a->bc\", cp.array(rotated_S[j]), phases)\n",
    "\n",
    "                Gk = cp.linalg.inv(SK * local_samples - HK)\n",
    "\n",
    "                # store the Greens function slice of the magnetic entities\n",
    "                for l, sbi in enumerate(local_SBI):\n",
    "                    local_G_mag[j][l] = Gk[..., sbi, :][..., sbi] * wk\n",
    "\n",
    "                for l, dat in enumerate(zip(local_SBI1, local_SBI2, local_Ruc)):\n",
    "                    sbi1, sbi2, ruc = dat\n",
    "                    phase = cp.exp(1j * 2 * cp.pi * k @ ruc.T)\n",
    "\n",
    "                    # store the Greens function slice of the magnetic entities\n",
    "                    local_G_pair_ij[j][l] += Gk[..., sbi1, :][..., sbi2] * wk * phase\n",
    "                    local_G_pair_ji[j][l] += Gk[..., sbi2, :][..., sbi1] * wk / phase\n",
    "\n",
    "    return local_G_mag, local_G_pair_ij, local_G_pair_ji\n",
    "\n",
    "\n",
    "asd = timer()\n",
    "# Replace the GPU loop with this:\n",
    "with ThreadPoolExecutor(max_workers=num_cpu) as executor:\n",
    "    futures = [executor.submit(process_gpu, gpu_id) for gpu_id in range(num_cpu)]\n",
    "    results = [future.result() for future in futures]\n",
    "print((timer() - asd) / 60, \" min\")\n",
    "\n",
    "# Combine results\n",
    "G_mag = cp.asnumpy(G_mag)\n",
    "G_pair_ji = cp.asnumpy(G_pair_ji)\n",
    "G_pair_ij = cp.asnumpy(G_pair_ij)\n",
    "for G_mag_local, G_pair_ij_local, G_pair_ji_local in results:\n",
    "    G_mag += cp.asnumpy(G_mag_local)\n",
    "    G_pair_ij += cp.asnumpy(G_pair_ij_local)\n",
    "    G_pair_ji += cp.asnumpy(G_pair_ji_local)\n",
    "\n",
    "print((timer() - asd) / 60, \" min\")\n",
    "\n",
    "# sum reduce partial results of mpi nodes\n",
    "for j in range(len(builder._rotated_hamiltonians)):\n",
    "    for l in range(len(SBI)):\n",
    "        mag_ent = builder.magnetic_entities[l]\n",
    "        mag_ent.Gii[j] = G_mag[j][l]\n",
    "\n",
    "        mag_ent.calculate_energies(builder.contour.weights)\n",
    "        mag_ent.fit_anisotropy_tensor(builder.ref_xcf_orientations)\n",
    "\n",
    "    for l in range(len(SBI1)):\n",
    "        pair = builder.pairs[l]\n",
    "        pair.Gij[j] = G_pair_ij[j][l]\n",
    "        pair.Gji[j] = G_pair_ji[j][l]\n",
    "\n",
    "        pair.calculate_energies(builder.contour.weights)\n",
    "        pair.fit_exchange_tensor(builder.ref_xcf_orientations)\n",
    "\n",
    "print(\"Runtime:\", (timer() - asd), \"s\")"
   ]
  },
  {
   "cell_type": "code",
   "execution_count": null,
   "id": "bf59998c-642f-4649-a38c-a1c7149d4cf3",
   "metadata": {},
   "outputs": [],
   "source": [
    "print([print(p.J_iso_meV) for p in builder.pairs])\n",
    "print([print(m.K_meV[0, 0]) for m in builder.magnetic_entities])"
   ]
  },
  {
   "cell_type": "code",
   "execution_count": null,
   "id": "ea554255-6165-47b0-b811-144268484fb2",
   "metadata": {},
   "outputs": [],
   "source": [
    "stop = timer()\n",
    "print(\"Runtime:\", (stop - start) / 60, \"min\")"
   ]
  },
  {
   "cell_type": "code",
   "execution_count": null,
   "id": "d785c286-0067-440e-90d1-db9d9d5fd0a2",
   "metadata": {},
   "outputs": [],
   "source": []
  }
 ],
 "metadata": {
  "kernelspec": {
   "display_name": "Python 3 (ipykernel)",
   "language": "python",
   "name": "python3"
  },
  "language_info": {
   "codemirror_mode": {
    "name": "ipython",
    "version": 3
   },
   "file_extension": ".py",
   "mimetype": "text/x-python",
   "name": "python",
   "nbconvert_exporter": "python",
   "pygments_lexer": "ipython3",
   "version": "3.10.12"
  }
 },
 "nbformat": 4,
 "nbformat_minor": 5
}
